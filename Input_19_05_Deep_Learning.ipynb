{
 "cells": [
  {
   "cell_type": "code",
   "execution_count": 24,
   "metadata": {},
   "outputs": [],
   "source": [
    "from Bio.Align import MultipleSeqAlignment\n",
    "from Bio import SeqIO\n",
    "from Bio.pairwise2 import format_alignment\n",
    "from Bio import pairwise2\n",
    "from Bio import Entrez\n",
    "import pandas as pd  \n",
    "import numpy as np\n",
    "from Bio.Seq import Seq\n",
    "# import matplotlib.pyplot as plt\n",
    "# import biotite\n",
    "# import biotite.sequence as seq\n",
    "# import biotite.sequence.align as align\n",
    "# import biotite.sequence.io.fasta as fasta\n",
    "# import biotite.database.entrez as entrez\n",
    "# import biotite.sequence.graphics as graphics\n",
    "# from biotite.sequence import Alphabet\n",
    "# from biotite.sequence.align import SubstitutionMatrix\n",
    "# from dna_features_viewer import GraphicFeature, GraphicRecord\n",
    "# import matplotlib.pyplot as plt"
   ]
  },
  {
   "cell_type": "code",
   "execution_count": 13,
   "metadata": {},
   "outputs": [],
   "source": [
    "# train_genomes_list = ['NC_019910.1', #Salmonella phage SKML-39, Caudovirales; Ackermannviridae; Aglimvirinae; Ag3virus\n",
    "#                           'JN593240.1',  #Escherichia virus CBA120, Caudovirales; Ackermannviridae; Cvivirinae; Cba120virus\n",
    "#                            'NC_019507.1', #Campylobacter phage CP21, Caudovirales; Myoviridae; Cp220virus\n",
    "#                            'NC_021337.1', #Acinetobacter phage AB3, Caudovirales; Podoviridae; Autographivirinae\n",
    "#                            'NC_028904.1', #Streptomyces virus Amela, Caudovirales; Siphoviridae; Arquatrovirinae; Camvirus\n",
    "#                            'NC_023697.1', #Mycobacterium phage Babsiella, Caudovirales; Siphoviridae; Chebruvirinae; Brujitavirus\n",
    "#                            'NC_018273.1', #Leuconostoc phage Lmd1, Caudovirales; Siphoviridae; Mccleskeyvirinae; Lmd1virus\n",
    "#                            'NC_029099.1', #Klebsiella phage KP36, Caudovirales; Siphoviridae; Tunavirinae; Kp36virus\n",
    "#                            'NC_025434.1', #Shigella phage POCJ13, Caudovirales; Podoviridae; Sepvirinae; Pocjvirus\n",
    "#                            'NC_005083.2', #Vibrio virus KVP40, Caudovirales; Myoviridae; Tevenvirinae; Schizot4virus\n",
    "#                          ]"
   ]
  },
  {
   "cell_type": "markdown",
   "metadata": {},
   "source": [
    "### Input: list of accesion numbers for the database "
   ]
  },
  {
   "cell_type": "code",
   "execution_count": null,
   "metadata": {},
   "outputs": [],
   "source": [
    "file_with_acc_numbers = 'test.acc_lst'"
   ]
  },
  {
   "cell_type": "code",
   "execution_count": null,
   "metadata": {},
   "outputs": [],
   "source": [
    "genomes_list = [x.strip() for x in open(file_with_acc_numbers, 'r').readlines()]"
   ]
  },
  {
   "cell_type": "markdown",
   "metadata": {},
   "source": [
    "###  Retrieving the sequence and the features by the accesion number"
   ]
  },
  {
   "cell_type": "code",
   "execution_count": 2,
   "metadata": {},
   "outputs": [],
   "source": [
    "def retrieve_seq (acc_num): \n",
    "    Entrez.email = \"E.Deyneka@student.tudelft.nl\"\n",
    "    handle = Entrez.efetch(db=\"nuccore\",\n",
    "                       id=acc_num,\n",
    "                       rettype=\"gb\",\n",
    "                       retmode=\"text\")\n",
    "    entry = SeqIO.read(handle, \"genbank\")\n",
    "    return entry"
   ]
  },
  {
   "cell_type": "markdown",
   "metadata": {},
   "source": [
    "### Safe genome in fasta format"
   ]
  },
  {
   "cell_type": "code",
   "execution_count": 24,
   "metadata": {},
   "outputs": [],
   "source": [
    "def save_fasta (genome, name):\n",
    "    f = open(name, \"w\")\n",
    "    f.write(\">%s\\n\" %genome.name)\n",
    "    f.write(str(genome.seq))\n",
    "    f.write('\\n')"
   ]
  },
  {
   "cell_type": "code",
   "execution_count": 25,
   "metadata": {},
   "outputs": [],
   "source": [
    "for item in genomes_list:\n",
    "    genome = retrieve_seq (item)\n",
    "    save_fasta (genome, \"{}.fasta\".format(genome.name))"
   ]
  },
  {
   "cell_type": "markdown",
   "metadata": {},
   "source": [
    "### After saving the sequences in .fasta format, we need to generate reads. The output of deepsim - to /scratch/ only reads and mapping to home directory"
   ]
  },
  {
   "cell_type": "markdown",
   "metadata": {},
   "source": [
    ".fastq and .paf file should have the same name as genome accession number"
   ]
  },
  {
   "cell_type": "markdown",
   "metadata": {},
   "source": [
    "### Parsing DeepSim reads "
   ]
  },
  {
   "cell_type": "code",
   "execution_count": 3,
   "metadata": {},
   "outputs": [],
   "source": [
    "# input - .fastq reads, output - dictionary with DeepSim identifier and my identifier and read itself\n",
    "\n",
    "# filename - 'acc_num.fastq'\n",
    "def open_reads (filename, filtering):\n",
    "    my_identifiers = [] #reads and my identifiers\n",
    "    ids_deepsim = []\n",
    "    reads = []\n",
    "    for i, record in enumerate(SeqIO.parse(filename, \"fastq\")):\n",
    "        if filtering != None:\n",
    "            if len(str(record.seq)) >= filtering:\n",
    "                my_identifiers.append('{}-{}'.format(filename[:-6], (i+1)))\n",
    "                reads.append(str(record.seq))\n",
    "                ids_deepsim.append(record.id)     \n",
    "\n",
    "        \n",
    "    id_dictionary = dict(zip(ids_deepsim, my_identifiers))\n",
    "    reads_dictionary = dict(zip(my_identifiers, reads))\n",
    "    return id_dictionary, reads_dictionary \n",
    "\n"
   ]
  },
  {
   "cell_type": "markdown",
   "metadata": {},
   "source": [
    "#### Note that now some reads can be missing because of filtering "
   ]
  },
  {
   "cell_type": "code",
   "execution_count": 5,
   "metadata": {},
   "outputs": [],
   "source": [
    "# Save feads in the format for BLAST, input - reads dictionary\n",
    "def save_reads(reads_dictionary):\n",
    "    f = open(\"Reads_{}.fna\".format(list(reads_dictionary.keys())[0].split('-')[0]), \"w\")\n",
    "    for i in range(len(reads_dictionary)):\n",
    "        f.write(\">{}\\n\".format(list(reads_dictionary.keys())[i]))\n",
    "        f.write(list(reads_dictionary.values())[i])\n",
    "        f.write('\\n')"
   ]
  },
  {
   "cell_type": "code",
   "execution_count": 46,
   "metadata": {},
   "outputs": [],
   "source": [
    "def mapping(filename):\n",
    "    df = pd.read_table(filename, header=None)\n",
    "    d = {'Read number': [], 'Strand': [], 'Location of gene in the read': []}\n",
    "    ground_truth = pd.DataFrame(data=d)\n",
    "\n",
    "    for i in range(df.shape[0]):\n",
    "        if id_dictionary.get(df.iloc[i,0]) != None:\n",
    "            start_for = df.iloc[i,7]\n",
    "            end_for = df.iloc[i,8]\n",
    "\n",
    "            start_rev = df.iloc[i,6]-df.iloc[i,8]\n",
    "            end_rev = df.iloc[i,6] - (df.iloc[i,7]-1)\n",
    "            subject_acc = df.iloc[i,5] \n",
    "\n",
    "\n",
    "            #retrieving subject genome\n",
    "            subject_genome = retrieve_seq (subject_acc)\n",
    "\n",
    "            #location of mapped regions\n",
    "            idx_ref_for = pd.Index(np.arange(start_for, end_for))\n",
    "            idx_ref_rev = pd.Index(np.arange(start_rev, end_rev))\n",
    "            for j in range(len(subject_genome.features)):\n",
    "                if subject_genome.features[j].type=='CDS':\n",
    "                    # for the forward strand\n",
    "                    ground_truth = gene_locations(df.iloc[i,0], ground_truth, subject_genome.features[j], idx_ref_for, 1, start_for, end_for)\n",
    "\n",
    "                    # for the reverse strand\n",
    "                    ground_truth = gene_locations(df.iloc[i,0], ground_truth, subject_genome.features[j], idx_ref_rev, -1, start_rev, end_rev)\n",
    "    return ground_truth"
   ]
  },
  {
   "cell_type": "code",
   "execution_count": 47,
   "metadata": {},
   "outputs": [],
   "source": [
    "def gene_locations(read_id, ground_truth, subject_genome_feature, idx_ref, strand, start, end): # subject_genome_features[j]\n",
    "    idx = pd.Index(np.arange(subject_genome_feature.location.start.position, \n",
    "                             subject_genome_feature.location.end.position))\n",
    "    overlap = list(idx_ref.intersection(idx))\n",
    "    if len(overlap) != 0:\n",
    "        overlap_start = overlap[0]\n",
    "        overlap_end = overlap[-1]\n",
    "        ground_truth = ground_truth.append({'Read number': id_dictionary.get(read_id), 'Strand': strand, \n",
    "                                'Location of gene in the read': [overlap_start - start, \n",
    "                                                                 overlap_end - start+1 ]} , ignore_index=True) # 0-based system\n",
    "    return ground_truth"
   ]
  },
  {
   "cell_type": "markdown",
   "metadata": {},
   "source": [
    "### Main code     \n",
    " "
   ]
  },
  {
   "cell_type": "code",
   "execution_count": 10,
   "metadata": {},
   "outputs": [],
   "source": [
    "id_dictionary, reads_dictionary = open_reads ('NC_019910.fastq', 2000)\n"
   ]
  },
  {
   "cell_type": "code",
   "execution_count": 48,
   "metadata": {},
   "outputs": [
    {
     "name": "stderr",
     "output_type": "stream",
     "text": [
      "C:\\Users\\Kate\\Anaconda3\\lib\\site-packages\\ipykernel_launcher.py:2: FutureWarning: read_table is deprecated, use read_csv instead, passing sep='\\t'.\n",
      "  \n"
     ]
    }
   ],
   "source": [
    "ground_truth = mapping('NC_019910.paf')"
   ]
  },
  {
   "cell_type": "code",
   "execution_count": 62,
   "metadata": {},
   "outputs": [],
   "source": [
    "def writing_input(strand, df_one_read):\n",
    "    f.write(df_one_read.loc[0, 'Read number'] + ';')\n",
    "    seq = reads_dictionary[df_one_read.loc[0, 'Read number']] # retrieve seq from dictionary \n",
    "    if strand == 1:\n",
    "        f.write(seq + ';')\n",
    "    else:\n",
    "        f.write(str(Seq(seq).reverse_complement()) + ';')\n",
    "        \n",
    "    locations = []\n",
    "    encoded_seq = np.zeros(len(seq), dtype=int)\n",
    "    for i in range(df_one_read.shape[0]):\n",
    "        if df_one_read.loc[i, 'Strand'] == strand:\n",
    "            locations.append(df_one_read.loc[i, 'Location of gene in the read'])\n",
    "            start = df_one_read.loc[i, 'Location of gene in the read'][0]\n",
    "            stop = df_one_read.loc[i, 'Location of gene in the read'][1]\n",
    "            encoded_seq[start:stop] = 1\n",
    "            \n",
    "    f.write(str(locations) + ';')\n",
    "    f.write(''.join(str(x) for x in encoded_seq) + ';')\n",
    "    if strand == 1:\n",
    "        f.write('forward' + '\\n')\n",
    "    else: \n",
    "        f.write('reverse' + '\\n')"
   ]
  },
  {
   "cell_type": "markdown",
   "metadata": {},
   "source": [
    "#### This code creates input that we discussed  "
   ]
  },
  {
   "cell_type": "code",
   "execution_count": 63,
   "metadata": {},
   "outputs": [],
   "source": [
    "f = open('Input_file_reads.txt', \"w\")\n",
    "_, idx = np.unique(ground_truth[['Read number']].values, return_index=True)\n",
    "for read_num in [x[0] for x in ground_truth[['Read number']].values[np.sort(idx)]]:\n",
    "\n",
    "    df_one_read = ground_truth.loc[ground_truth['Read number'] == read_num].reset_index()\n",
    "    writing_input(1, df_one_read)\n",
    "    writing_input(-1, df_one_read)\n"
   ]
  },
  {
   "cell_type": "code",
   "execution_count": null,
   "metadata": {},
   "outputs": [],
   "source": []
  }
 ],
 "metadata": {
  "kernelspec": {
   "display_name": "Python 3",
   "language": "python",
   "name": "python3"
  },
  "language_info": {
   "codemirror_mode": {
    "name": "ipython",
    "version": 3
   },
   "file_extension": ".py",
   "mimetype": "text/x-python",
   "name": "python",
   "nbconvert_exporter": "python",
   "pygments_lexer": "ipython3",
   "version": "3.6.8"
  }
 },
 "nbformat": 4,
 "nbformat_minor": 2
}
