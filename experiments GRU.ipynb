{
 "cells": [
  {
   "cell_type": "code",
   "execution_count": 81,
   "metadata": {},
   "outputs": [],
   "source": [
    "import torch\n",
    "import torch.nn as nn\n",
    "import torch.nn.functional as F\n",
    "import torch.optim as optim\n",
    "import numpy as np\n",
    "import pandas as pd\n",
    "import matplotlib.pyplot as plt\n",
    "from data_loader.data_loader import PhageLoader\n",
    "device = torch.device(\"cuda:0\" if torch.cuda.is_available() else \"cpu\")\n"
   ]
  },
  {
   "cell_type": "code",
   "execution_count": 187,
   "metadata": {},
   "outputs": [],
   "source": [
    "class GRU(nn.Module):\n",
    "    def __init__(self, vocab_size, embedding_size, hidden_size, output_labels, number_of_layers=1, bidirectional=True):\n",
    "        super(GRU, self).__init__()\n",
    "        \n",
    "        self.bidirectional = bidirectional\n",
    "        self.hidden_dim_dense = hidden_size\n",
    "        self.num_layers = number_of_layers \n",
    "        if bidirectional:\n",
    "            self.hidden_dim_dense = hidden_size * 2\n",
    "            \n",
    "        self.emb_layer = nn.Embedding(vocab_size, embedding_size)\n",
    "        self.gru = nn.GRU(input_size=embedding_size, hidden_size=hidden_size, bidirectional=bidirectional, num_layers=number_of_layers,batch_first=True)\n",
    "        self.linear = nn.Linear(self.hidden_dim_dense, output_labels)\n",
    "        \n",
    "        \n",
    "    def forward(self, h_t1, indexes):\n",
    "        #indexes -> (batch,seq_length)\n",
    "        embedding = self.emb_layer(x)\n",
    "        #print(\"EMBEDDING SHAPE: \", embedding.size())\n",
    "        #embedding -> (batch,seq_length,embedding_size)\n",
    "        out,h_t = self.gru(embedding, h_t1)\n",
    "        #print(\"OUT SHAPE: \", out.size(), self.hidden_dim_dense)\n",
    "        #out -> ()\n",
    "        #out = out.view(self.hidden_dim_dense, -1)\n",
    "        \n",
    "        out = F.relu(self.linear(out))\n",
    "        out2 = F.softmax(out,dim=2)\n",
    "        out = F.log_softmax(out,dim=2)\n",
    "        \n",
    "        return out, out2,h_t\n",
    "        \n",
    "    def initHidden(self, batch_size, hidden_size):\n",
    "        if self.bidirectional:\n",
    "            return torch.zeros(self.num_layers*2, batch_size, hidden_size, device=device)\n",
    "        else:\n",
    "            return torch.zeros(self.num_layers, batch_size, hidden_size, device=device)\n",
    "\n",
    "    def create_emb_layer(self, weights_matrix, non_trainable=False):\n",
    "        num_embeddings, embedding_dim = weights_matrix.size()\n",
    "        emb_layer = nn.Embedding(num_embeddings, embedding_dim)\n",
    "        emb_layer.load_state_dict({'weight': weights_matrix})\n",
    "        if non_trainable:\n",
    "            emb_layer.weight.requires_grad = False\n",
    "\n",
    "        return emb_layer, num_embeddings, embedding_dim"
   ]
  },
  {
   "cell_type": "code",
   "execution_count": 171,
   "metadata": {},
   "outputs": [
    {
     "name": "stdout",
     "output_type": "stream",
     "text": [
      "torch.Size([1, 6])\n"
     ]
    }
   ],
   "source": [
    "\n",
    "print(index.shape)\n",
    "loader = PhageLoader(\"data/\")\n",
    "read_length = 100"
   ]
  },
  {
   "cell_type": "code",
   "execution_count": 239,
   "metadata": {},
   "outputs": [
    {
     "name": "stdout",
     "output_type": "stream",
     "text": [
      "tensor([[[0., 0., 0., 0., 0., 0., 0., 0.],\n",
      "         [0., 0., 0., 0., 0., 0., 0., 0.]],\n",
      "\n",
      "        [[0., 0., 0., 0., 0., 0., 0., 0.],\n",
      "         [0., 0., 0., 0., 0., 0., 0., 0.]]])\n",
      "torch.Size([2, 4, 2]) torch.Size([8])\n",
      "tensor([[[0.5000, 0.5000],\n",
      "         [0.4928, 0.5072],\n",
      "         [0.4975, 0.5025],\n",
      "         [0.4854, 0.5146]],\n",
      "\n",
      "        [[0.5000, 0.5000],\n",
      "         [0.4928, 0.5072],\n",
      "         [0.4975, 0.5025],\n",
      "         [0.4854, 0.5146]]], grad_fn=<SoftmaxBackward>)\n",
      "tensor(0.6811, grad_fn=<NllLossBackward>)\n",
      "tensor([[[ 0.2449,  0.1611,  0.5467, -0.2473,  0.0426, -0.0337,  0.0219,\n",
      "           0.2608],\n",
      "         [ 0.2449,  0.1611,  0.5467, -0.2473,  0.0426, -0.0337,  0.0219,\n",
      "           0.2608]],\n",
      "\n",
      "        [[ 0.1650, -0.0673, -0.4808, -0.3795, -0.3641,  0.2701, -0.0353,\n",
      "           0.1670],\n",
      "         [ 0.1650, -0.0673, -0.4808, -0.3795, -0.3641,  0.2701, -0.0353,\n",
      "           0.1670]]], grad_fn=<StackBackward>)\n",
      "tensor([[[0.5000, 0.5000],\n",
      "         [0.4907, 0.5093],\n",
      "         [0.4954, 0.5046],\n",
      "         [0.4838, 0.5162]],\n",
      "\n",
      "        [[0.5000, 0.5000],\n",
      "         [0.4907, 0.5093],\n",
      "         [0.4954, 0.5046],\n",
      "         [0.4838, 0.5162]]], grad_fn=<SoftmaxBackward>)\n",
      "tensor(0.6783, grad_fn=<NllLossBackward>)\n",
      "tensor([[[0.5000, 0.5000],\n",
      "         [0.4867, 0.5133],\n",
      "         [0.4913, 0.5087],\n",
      "         [0.4806, 0.5194]],\n",
      "\n",
      "        [[0.5000, 0.5000],\n",
      "         [0.4867, 0.5133],\n",
      "         [0.4913, 0.5087],\n",
      "         [0.4806, 0.5194]]], grad_fn=<SoftmaxBackward>)\n",
      "tensor(0.6728, grad_fn=<NllLossBackward>)\n"
     ]
    }
   ],
   "source": [
    "model_test = GRU(vocab_size=4, embedding_size=4, hidden_size=8, output_labels=2)\n",
    "n_b=2\n",
    "y = torch.tensor([[1,1,1,1],[1,1,1,1]],dtype=torch.long)\n",
    "y = y.type(torch.LongTensor)\n",
    "x = torch.tensor([[2,1,0,3],[2,1,0,3]],dtype=torch.long)\n",
    "x = x.type(torch.LongTensor)\n",
    "optimizer = optim.SGD(model_test.parameters(), lr=0.01)\n",
    "\n",
    "y = y.view(8)\n",
    "hidden_test = model_test.initHidden(n_b,8)\n",
    "print(hidden_test)\n",
    "out,out2, hidden_test = model_test(hidden_test,x)\n",
    "print(out.shape,y.shape)\n",
    "l = nn.NLLLoss()\n",
    "out = out.view(4*n_b,2)\n",
    "print(out2)\n",
    "loss = l(out,y)\n",
    "print(loss)\n",
    "loss.backward()\n",
    "optimizer.step()\n",
    "hidden_test.detach_()\n",
    "\n",
    "\n",
    "hidden_test = model_test.initHidden(n_b,8)\n",
    "out,out2, hidden_test = model_test(hidden_test,x)\n",
    "print(hidden_test)\n",
    "out = out.view(4*n_b,2)\n",
    "print(out2)\n",
    "loss = l(out,y)\n",
    "print(loss)\n",
    "\n",
    "\n",
    "loss.backward()\n",
    "optimizer.step()\n",
    "hidden_test.detach_()\n",
    "hidden_test = model_test.initHidden(n_b,8)\n",
    "out,out2, hidden_test = model_test(hidden_test,x)\n",
    "out = out.view(4*n_b,2)\n",
    "print(out2)\n",
    "loss = l(out,y)\n",
    "print(loss)\n"
   ]
  },
  {
   "cell_type": "code",
   "execution_count": 222,
   "metadata": {},
   "outputs": [
    {
     "data": {
      "text/plain": [
       "0.6804160349145189"
      ]
     },
     "execution_count": 222,
     "metadata": {},
     "output_type": "execute_result"
    }
   ],
   "source": [
    "(-np.log(0.5125) - np.log(0.5266) - np.log(0.4776) - np.log(0.5047))/4"
   ]
  },
  {
   "cell_type": "code",
   "execution_count": 246,
   "metadata": {},
   "outputs": [],
   "source": [
    "k_size=1\n",
    "batch_size = 30\n",
    "read_length = 100\n",
    "experiment_loader = loader.get_data_loader(n_files=1,read_length=read_length, batch_size=batch_size, k=k_size, stride=1, embedding=\"dict\", embed_size=None, drop_last=False)\n"
   ]
  },
  {
   "cell_type": "code",
   "execution_count": 247,
   "metadata": {},
   "outputs": [
    {
     "name": "stdout",
     "output_type": "stream",
     "text": [
      "GRU(\n",
      "  (emb_layer): Embedding(4, 4)\n",
      "  (gru): GRU(4, 16, batch_first=True, bidirectional=True)\n",
      "  (linear): Linear(in_features=32, out_features=2, bias=True)\n",
      ")\n",
      "Parameter containing:\n",
      "tensor([[ 0.3619,  0.4803,  1.0733, -0.8684],\n",
      "        [-0.8888, -0.0511, -0.2348, -0.1149],\n",
      "        [ 0.9973,  0.0262,  1.6551,  0.8798],\n",
      "        [-0.5461,  0.1211,  2.1376,  1.1199]], requires_grad=True)\n"
     ]
    }
   ],
   "source": [
    "vocab_size = 4**k_size\n",
    "embedding_layer_size = 4\n",
    "hidden_size = 16\n",
    "output_labels=2\n",
    "model = GRU(vocab_size, embedding_layer_size, hidden_size, output_labels)\n",
    "print(model)\n",
    "model.to(device)\n",
    "hidden = model.initHidden(batch_size,hidden_size)\n",
    "\n",
    "loss_function = nn.NLLLoss()\n",
    "optimizer = optim.SGD(model.parameters(), lr=0.01)\n",
    "\n",
    "losses = []\n",
    "running_loss = 0\n",
    "epochs = 1\n",
    "for epoch in range(epochs):\n",
    "    for b, (x, y) in enumerate(experiment_loader):\n",
    "        #gives batches of size \"batch_size, read_length\"\n",
    "        \n",
    "        model.zero_grad()\n",
    "        x, y = x.to(device), y.to(device)\n",
    "        x = x.type(torch.LongTensor)\n",
    "        y = y.type(torch.LongTensor)\n",
    "        if y.size()[0] != batch_size:\n",
    "            break\n",
    "            \n",
    "        out,_,hidden = model(hidden,x)\n",
    "        y = y.view(batch_size*read_length)\n",
    "        out = out.view(batch_size*read_length,output_labels)\n",
    "        loss = loss_function(out,y)\n",
    "        running_loss = running_loss + loss.item()\n",
    "        \n",
    "        \n",
    "        loss.backward()\n",
    "        optimizer.step()\n",
    "        hidden.detach_()\n",
    "    print(model.emb_layer.weight)\n",
    "    losses.append(running_loss)"
   ]
  },
  {
   "cell_type": "code",
   "execution_count": 248,
   "metadata": {},
   "outputs": [
    {
     "name": "stdout",
     "output_type": "stream",
     "text": [
      "Parameter containing:\n",
      "tensor([[ 0.3619,  0.4803,  1.0733, -0.8684],\n",
      "        [-0.8888, -0.0511, -0.2348, -0.1149],\n",
      "        [ 0.9973,  0.0262,  1.6551,  0.8798],\n",
      "        [-0.5461,  0.1211,  2.1376,  1.1199]], requires_grad=True)\n"
     ]
    }
   ],
   "source": [
    "print(model.emb_layer.weight)"
   ]
  },
  {
   "cell_type": "code",
   "execution_count": 269,
   "metadata": {},
   "outputs": [],
   "source": [
    "first = model.emb_layer.weight[0]\n",
    "second = model.emb_layer.weight[1]\n",
    "third = model.emb_layer.weight[2]\n",
    "fourth = model.emb_layer.weight[3]"
   ]
  },
  {
   "cell_type": "code",
   "execution_count": 259,
   "metadata": {},
   "outputs": [
    {
     "name": "stdout",
     "output_type": "stream",
     "text": [
      "tensor([ 0.3619,  0.4803,  1.0733, -0.8684], grad_fn=<SelectBackward>)\n"
     ]
    }
   ],
   "source": [
    "print(first)"
   ]
  },
  {
   "cell_type": "code",
   "execution_count": 275,
   "metadata": {},
   "outputs": [
    {
     "data": {
      "text/plain": [
       "tensor(0.7570, grad_fn=<DivBackward0>)"
      ]
     },
     "execution_count": 275,
     "metadata": {},
     "output_type": "execute_result"
    }
   ],
   "source": [
    "cos = nn.CosineSimilarity(dim=-1,eps=1e-6)\n",
    "output = cos(third, fourth)\n",
    "output"
   ]
  },
  {
   "cell_type": "code",
   "execution_count": 268,
   "metadata": {},
   "outputs": [
    {
     "data": {
      "text/plain": [
       "tensor(-0.3567, grad_fn=<DivBackward0>)"
      ]
     },
     "execution_count": 268,
     "metadata": {},
     "output_type": "execute_result"
    }
   ],
   "source": []
  },
  {
   "cell_type": "code",
   "execution_count": null,
   "metadata": {},
   "outputs": [],
   "source": []
  }
 ],
 "metadata": {
  "kernelspec": {
   "display_name": "Python 3",
   "language": "python",
   "name": "python3"
  },
  "language_info": {
   "codemirror_mode": {
    "name": "ipython",
    "version": 3
   },
   "file_extension": ".py",
   "mimetype": "text/x-python",
   "name": "python",
   "nbconvert_exporter": "python",
   "pygments_lexer": "ipython3",
   "version": "3.6.8"
  }
 },
 "nbformat": 4,
 "nbformat_minor": 2
}
