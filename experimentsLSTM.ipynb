{
 "cells": [
  {
   "cell_type": "markdown",
   "metadata": {},
   "source": [
    "# Experiments LSTM net\n",
    "\n",
    "Here we tried to replicate the network that was used in [this](https://www.nature.com/articles/s41598-018-33321-1#Sec2) paper. But instead of using GRU we used LSTM. "
   ]
  },
  {
   "cell_type": "code",
   "execution_count": 2,
   "metadata": {},
   "outputs": [],
   "source": [
    "import pandas as pd\n",
    "\n",
    "import torch\n",
    "import torch.nn as nn\n",
    "import torch.nn.functional as F\n",
    "import torch.optim as optim\n",
    "\n",
    "from itertools import product\n",
    "import numpy as np\n",
    "import matplotlib.pyplot as plt\n",
    "import seaborn as sns\n",
    "\n",
    "from data_loader.data_loader import PhageLoader\n",
    "\n",
    "%matplotlib inline"
   ]
  },
  {
   "cell_type": "markdown",
   "metadata": {},
   "source": [
    "## LSTM"
   ]
  },
  {
   "cell_type": "code",
   "execution_count": 33,
   "metadata": {},
   "outputs": [],
   "source": [
    "class BasicLSTM(nn.Module):\n",
    "    def __init__(self, vocab_size, embedding_size, hidden_dim, sequence_length, batch_size, labset_dim=2, number_of_layers=1, bidirectional=True, device=torch.device(\"cpu\")):\n",
    "        super(BasicLSTM, self).__init__()\n",
    "        \n",
    "        self.hidden_dim = hidden_dim\n",
    "        self.batch_size = batch_size\n",
    "        self.sequence_length = sequence_length\n",
    "        self.num_layers = number_of_layers\n",
    "        self.device = device\n",
    "        \n",
    "        hidden_dim_dense = hidden_dim\n",
    "        if bidirectional:\n",
    "            hidden_dim_dense = hidden_dim * 2\n",
    "        \n",
    "        self.kmer2embedding = nn.Embedding(vocab_size, embedding_size)\n",
    "        self.lstm = nn.LSTM(embedding_size, hidden_dim ,bidirectional=bidirectional,num_layers=number_of_layers)\n",
    "        self.dense = nn.Linear(hidden_dim_dense, labset_dim)        \n",
    "\n",
    "\n",
    "    def forward(self, sequence):\n",
    "        # Input (shape: )\n",
    "        embedded_kmers = self.kmer2embedding(sequence)\n",
    "\n",
    "        # embeddings -> LSTM hiddens (seq_len, batch, num_directions * hidden_size)\n",
    "        out_lstm, _ = self.lstm(embedded_kmers.view(self.sequence_length, self.batch_size, -1)) \n",
    "\n",
    "        # LSTM hiddens -> dense layer \n",
    "        out_dense = self.dense(out_lstm.view(-1, self.hidden_dim*2))\n",
    "\n",
    "        # dense layer -> probabilities\n",
    "        out_log = F.log_softmax(out_dense, dim = 1)\n",
    "        return out_log\n",
    "    \n",
    "    # Not being used for now\n",
    "    def initHidden(self, batch_size, hidden_size):\n",
    "        if self.bidirectional:\n",
    "            return torch.zeros(self.num_layers*2, batch_size, hidden_size, device=this.device)\n",
    "        else:\n",
    "            return torch.zeros(self.num_layers, batch_size, hidden_size, device=this.device)\n",
    "        \n",
    "    # Not being used for now\n",
    "    def create_emb_layer(self, weights_matrix, non_trainable=False):\n",
    "        num_embeddings, embedding_dim = weights_matrix.size()\n",
    "        emb_layer = nn.Embedding(num_embeddings, embedding_dim)\n",
    "        emb_layer.load_state_dict({'weight': weights_matrix})\n",
    "        if non_trainable:\n",
    "            emb_layer.weight.requires_grad = False\n",
    "            \n",
    "        return emb_layer, num_embeddings, embedding_dim"
   ]
  },
  {
   "cell_type": "code",
   "execution_count": 7,
   "metadata": {},
   "outputs": [
    {
     "data": {
      "text/plain": [
       "device(type='cpu')"
      ]
     },
     "execution_count": 7,
     "metadata": {},
     "output_type": "execute_result"
    }
   ],
   "source": [
    "# Setting up for working with GPU, if available\n",
    "device = torch.device(\"cuda:0\" if torch.cuda.is_available() else \"cpu\")\n",
    "device"
   ]
  },
  {
   "cell_type": "code",
   "execution_count": 36,
   "metadata": {},
   "outputs": [],
   "source": [
    "# parameters for grid search\n",
    "window_sizes = [3] # [1, 3, 5, 7]\n",
    "strides = [1] # [1, 2]\n",
    "batch_sizes = [30] # [30, 60, 120] \n",
    "embedding_layer_sizes = [50] # [50, 100]\n",
    "hidden_layer_sizes = [30] # [30, 50, 80]\n",
    "epochs_values = [1] # [10, 50, 100]\n",
    "optimizers = ['SGD']#['SGD', 'ADAM']\n",
    "learning_rates = [0.1] # [0.1, 0.01, 0.001] \n",
    "\n",
    "# other important parameters\n",
    "#VOCAB_SIZE = len(kmers_dict)\n",
    "LABSET_DIM = 2\n",
    "BIDIRECTIONAL = True\n",
    "sequence_length = 100\n",
    "genomes_to_use = 1 # len(loaders) for all genomes"
   ]
  },
  {
   "cell_type": "code",
   "execution_count": 9,
   "metadata": {},
   "outputs": [],
   "source": [
    "# get dataset\n",
    "loader = PhageLoader(\"data/\")"
   ]
  },
  {
   "cell_type": "code",
   "execution_count": 10,
   "metadata": {},
   "outputs": [
    {
     "data": {
      "text/plain": [
       "[(3, 1, 30, 50, 30, 1, 'SGD', 0.1)]"
      ]
     },
     "execution_count": 10,
     "metadata": {},
     "output_type": "execute_result"
    }
   ],
   "source": [
    "from itertools import product\n",
    "\n",
    "hyperparams_configs = list(product(window_sizes, \\\n",
    "                                   strides, batch_sizes, \\\n",
    "                                   embedding_layer_sizes, \\\n",
    "                                   hidden_layer_sizes, \\\n",
    "                                   epochs_values, \\\n",
    "                                   optimizers, \\\n",
    "                                   learning_rates))\n",
    "hyperparams_configs"
   ]
  },
  {
   "cell_type": "code",
   "execution_count": 11,
   "metadata": {},
   "outputs": [],
   "source": [
    "# Here just to speed up prototyping but it should be inside the loop\n",
    "experiment_loader = loader.get_data_loader(n='all',read_length=sequence_length, batch_size=30, k=3, stride=1, embedding=\"dict\", embed_size=None, drop_last=False)\n",
    "# n -> how many files to bring\n",
    "# read_length -> length of the sequence to read (in terms of number of k-mers)\n",
    "# batch_size -> number of rows to recieve of length \"read_length\"\n",
    "# k -> k-mer k\n",
    "# stride -> stride for the kmer read\n",
    "# embedding: \"dict\" to return a dictionary with the combinations of letters"
   ]
  },
  {
   "cell_type": "code",
   "execution_count": 38,
   "metadata": {},
   "outputs": [
    {
     "name": "stdout",
     "output_type": "stream",
     "text": [
      "Running experiment with (window_size = 3, stride = 1, batch_size = 30, embedding_layer_size = 50, hidden_layer_size = 30, epochs = 1, optimizer = SGD, learning_rate = 0.1)\n",
      "[1,    10] loss: 0.003\n",
      "[1,    20] loss: 0.002\n",
      "[1,    30] loss: 0.001\n",
      "[1,    40] loss: 0.001\n",
      "[1,    50] loss: 0.001\n",
      "[1,    60] loss: 0.001\n",
      "[1,    70] loss: 0.001\n",
      "[1,    80] loss: 0.001\n",
      "[1,    90] loss: 0.001\n",
      "[1,   100] loss: 0.001\n",
      "[1,   110] loss: 0.001\n",
      "[1,   120] loss: 0.001\n",
      "[1,   130] loss: 0.002\n",
      "[1,   140] loss: 0.001\n",
      "[1,   150] loss: 0.001\n",
      "[1,   160] loss: 0.002\n",
      "[1,   170] loss: 0.001\n",
      "[1,   180] loss: 0.001\n",
      "[1,   190] loss: 0.001\n",
      "[1,   200] loss: 0.001\n",
      "[1,   210] loss: 0.001\n",
      "[1,   220] loss: 0.002\n",
      "[1,   230] loss: 0.002\n",
      "[1,   240] loss: 0.001\n",
      "[1,   250] loss: 0.001\n",
      "[1,   260] loss: 0.001\n",
      "[1,   270] loss: 0.001\n",
      "[1,   280] loss: 0.002\n",
      "[1,   290] loss: 0.003\n"
     ]
    }
   ],
   "source": [
    "# TRAIN\n",
    "# Set up the experiment \n",
    "\n",
    "for (window_size, stride, batch_size, embedding_layer_size, hidden_layer_size, epochs, optimizer, learning_rate) in hyperparams_configs:\n",
    "    \n",
    "    print('Running experiment with (window_size = %s, stride = %s, batch_size = %s, embedding_layer_size = %s, hidden_layer_size = %s, epochs = %s, optimizer = %s, learning_rate = %s)' % (window_size, stride, batch_size, embedding_layer_size, hidden_layer_size, epochs, optimizer, learning_rate))\n",
    "    \n",
    "    VOCAB_SIZE = 4**window_size\n",
    "\n",
    "    # Transform dataset appropiately (I take this line out for now because it takes a lot of time)\n",
    "    # experiment_loader = loader.get_data_loader(n='all',read_length=100, batch_size=batch_size, k=window_size, stride=stride, embedding=\"dict\", embed_size=None, drop_last=False)\n",
    "    train_set_size = round(len(experiment_loader) * 0.1) # Use 10% for now\n",
    "    validation_set_size = round(len(experiment_loader) * 0.1) # Use 10% for now\n",
    "    test_set_size =  len(experiment_loader) - (train_set_size + validation_set_size)\n",
    "    \n",
    "    basicLSTM = BasicLSTM(vocab_size = VOCAB_SIZE, \\\n",
    "              embedding_size = embedding_layer_size, \\\n",
    "              hidden_dim = hidden_layer_size,\\\n",
    "            sequence_length = 100, \\\n",
    "            batch_size = batch_size, \\\n",
    "              labset_dim= LABSET_DIM,\\\n",
    "              number_of_layers = 1, \\\n",
    "              bidirectional=BIDIRECTIONAL, \\\n",
    "              device=device)\n",
    "    \n",
    "    basicLSTM.to(device) # will move to cuda if available\n",
    "    loss_function = nn.NLLLoss()\n",
    "    optimizer = optim.SGD(basicLSTM.parameters(), lr=learning_rate)\n",
    "    if optimizer == 'ADAM':\n",
    "        pass # use ADAM\n",
    "\n",
    "    losses = []\n",
    "    running_loss = 0\n",
    "\n",
    "    for epoch in range(epochs):\n",
    "\n",
    "            # Iterate over all the training set\n",
    "            for b, (x, y) in enumerate(experiment_loader):\n",
    "\n",
    "                if b == train_set_size: \n",
    "                    break\n",
    "\n",
    "                basicLSTM.zero_grad()                    \n",
    "                x = x.type(torch.LongTensor)\n",
    "                y = y.type(torch.LongTensor)\n",
    "                x, y = x.to(device), y.to(device)\n",
    "                if y.size()[0] != batch_size:\n",
    "                    break\n",
    "\n",
    "                out = basicLSTM(x)  \n",
    "                y = y.view(batch_size*sequence_length)\n",
    "                out = out.view(batch_size*sequence_length,2)\n",
    "                loss = loss_function(out, y)\n",
    "                losses.append(loss.item())\n",
    "\n",
    "                loss.backward()\n",
    "                optimizer.step()\n",
    "\n",
    "                # print statistics\n",
    "                running_loss += loss.item()\n",
    "                if b % 10 == 9:\n",
    "                #if i % 2000 == 1999:    # print every 2000 mini-batches\n",
    "                    print('[%d, %5d] loss: %.3f' %\n",
    "                          (epoch + 1, b + 1, running_loss / 2000))\n",
    "                    running_loss = 0.0\n",
    "    \n",
    "    # TODO: validate on validation set "
   ]
  },
  {
   "cell_type": "markdown",
   "metadata": {},
   "source": [
    "* It takes 3:30 minutes to train the network with 558 parameters and 11173 sequences of 10 kmers each. (1 genome)\n",
    "* It takes 26:30 minutes to train the network with 29314 parameters and Y sequences of 100 kmers each. (10 genomes)\n",
    "* It takes more or less 40 minutes to train the network on google cloud with CPU with 29314 parameters and Y sequences of 100 kmers each. (10 genomes)"
   ]
  },
  {
   "cell_type": "code",
   "execution_count": 16,
   "metadata": {},
   "outputs": [
    {
     "data": {
      "text/plain": [
       "29314"
      ]
     },
     "execution_count": 16,
     "metadata": {},
     "output_type": "execute_result"
    }
   ],
   "source": [
    "# Number of trainable parameters of pytorch model\n",
    "#pytorch_total_params = sum(p.numel() for p in model.parameters())\n",
    "pytorch_total_params = sum(p.numel() for p in basicLSTM.parameters() if p.requires_grad)\n",
    "pytorch_total_params"
   ]
  },
  {
   "cell_type": "code",
   "execution_count": 39,
   "metadata": {},
   "outputs": [
    {
     "data": {
      "text/plain": [
       "<matplotlib.axes._subplots.AxesSubplot at 0x101420208>"
      ]
     },
     "execution_count": 39,
     "metadata": {},
     "output_type": "execute_result"
    },
    {
     "data": {
      "image/png": "[encoded data removed]",
      "text/plain": [
       "<Figure size 936x360 with 1 Axes>"
      ]
     },
     "metadata": {
      "needs_background": "light"
     },
     "output_type": "display_data"
    }
   ],
   "source": [
    "#losses\n",
    "plt.figure(figsize=(13,5))\n",
    "sns.lineplot(x=range(len(losses)),y=losses)"
   ]
  },
  {
   "cell_type": "code",
   "execution_count": 17,
   "metadata": {},
   "outputs": [],
   "source": [
    "# Test\n",
    "total = 0\n",
    "correct = 0\n",
    "with torch.no_grad():\n",
    "    for i, (raw_kmer, raw_labels) in enumerate(test):\n",
    "        kmer = prepareSequence(raw_kmer, kmers_dict)\n",
    "        labels = torch.tensor(raw_labels)\n",
    "        out = basicLSTM(labels)\n",
    "        _, predicted = torch.max(out, 1)\n",
    "        \n",
    "        total += labels.size(0)\n",
    "        correct += (predicted == labels).sum().item()\n",
    "    "
   ]
  },
  {
   "cell_type": "code",
   "execution_count": 18,
   "metadata": {},
   "outputs": [
    {
     "data": {
      "text/plain": [
       "0.556365202411714"
      ]
     },
     "execution_count": 18,
     "metadata": {},
     "output_type": "execute_result"
    }
   ],
   "source": [
    "# This is a bad result given that roughly 75% of the test set are 0's ... it means it gets all the ones wrong\n",
    "correct/total"
   ]
  },
  {
   "cell_type": "code",
   "execution_count": 19,
   "metadata": {},
   "outputs": [
    {
     "data": {
      "text/plain": [
       "0.44363479758828595"
      ]
     },
     "execution_count": 19,
     "metadata": {},
     "output_type": "execute_result"
    }
   ],
   "source": [
    "# Number of '1's in the test set\n",
    "sum([item for sublist in (b for a,b in test) for item in sublist])/len([item for sublist in (b for a,b in test) for item in sublist])"
   ]
  },
  {
   "cell_type": "code",
   "execution_count": 146,
   "metadata": {},
   "outputs": [
    {
     "name": "stdout",
     "output_type": "stream",
     "text": [
      "Accuracy of inter-genic : 100 %\n",
      "Accuracy of genic :  0 %\n"
     ]
    }
   ],
   "source": [
    "class_correct = list(0. for i in range(2))\n",
    "class_total = list(0. for i in range(2))\n",
    "classes = {0: 'inter-genic', 1: 'genic'}\n",
    "\n",
    "with torch.no_grad():\n",
    "    for i, (raw_kmer, raw_labels) in enumerate(test):\n",
    "        kmer = prepareSequence(raw_kmer, kmers_dict)\n",
    "        labels = torch.tensor(raw_labels)\n",
    "        out = basicLSTM(labels)\n",
    "        _, predicted = torch.max(out, 1)\n",
    "        c = (predicted == labels).squeeze()\n",
    "        for i in range(1):\n",
    "            label = labels[i]\n",
    "            class_correct[label] += c[i].item()\n",
    "            class_total[label] += 1\n",
    "\n",
    "\n",
    "for i in range(2):\n",
    "    print('Accuracy of %5s : %2d %%' % (\n",
    "        classes[i], 100 * class_correct[i] / class_total[i]))"
   ]
  },
  {
   "cell_type": "code",
   "execution_count": 145,
   "metadata": {},
   "outputs": [
    {
     "data": {
      "text/plain": [
       "\u001b[0;31mDocstring:\u001b[0m\n",
       "squeeze(dim=None) -> Tensor\n",
       "\n",
       "See :func:`torch.squeeze`\n",
       "\u001b[0;31mType:\u001b[0m      method_descriptor\n"
      ]
     },
     "metadata": {},
     "output_type": "display_data"
    }
   ],
   "source": [
    "?torch.Tensor.squeeze"
   ]
  },
  {
   "cell_type": "code",
   "execution_count": null,
   "metadata": {},
   "outputs": [],
   "source": []
  }
 ],
 "metadata": {
  "kernelspec": {
   "display_name": "Python 3",
   "language": "python",
   "name": "python3"
  },
  "language_info": {
   "codemirror_mode": {
    "name": "ipython",
    "version": 3
   },
   "file_extension": ".py",
   "mimetype": "text/x-python",
   "name": "python",
   "nbconvert_exporter": "python",
   "pygments_lexer": "ipython3",
   "version": "3.6.8"
  }
 },
 "nbformat": 4,
 "nbformat_minor": 2
}
