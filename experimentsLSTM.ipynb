{
 "cells": [
  {
   "cell_type": "markdown",
   "metadata": {},
   "source": [
    "# Experiments LSTM net\n",
    "\n",
    "Here we tried to replicate the network that was used in [this](https://www.nature.com/articles/s41598-018-33321-1#Sec2) paper. But instead of using GRU we used LSTM. "
   ]
  },
  {
   "cell_type": "code",
   "execution_count": 9,
   "metadata": {},
   "outputs": [],
   "source": [
    "import pandas as pd\n",
    "\n",
    "import torch\n",
    "import torch.nn as nn\n",
    "import torch.nn.functional as F\n",
    "import torch.optim as optim\n",
    "from torch.utils.data.sampler import SubsetRandomSampler\n",
    "\n",
    "from itertools import product\n",
    "import numpy as np\n",
    "import matplotlib.pyplot as plt\n",
    "import seaborn as sns\n",
    "\n",
    "from data_loader.data_loader import PhageLoader\n",
    "\n",
    "%matplotlib inline"
   ]
  },
  {
   "cell_type": "markdown",
   "metadata": {},
   "source": [
    "## LSTM"
   ]
  },
  {
   "cell_type": "code",
   "execution_count": 18,
   "metadata": {},
   "outputs": [],
   "source": [
    "class BasicLSTM(nn.Module):\n",
    "    def __init__(self, vocab_size, embedding_size, hidden_dim, sequence_length, batch_size, labset_dim=2, number_of_layers=1, bidirectional=True, device=torch.device(\"cpu\")):\n",
    "        super(BasicLSTM, self).__init__()\n",
    "        \n",
    "        self.hidden_dim = hidden_dim\n",
    "        self.batch_size = batch_size\n",
    "        self.sequence_length = sequence_length\n",
    "        self.num_layers = number_of_layers\n",
    "        self.device = device\n",
    "        \n",
    "        hidden_dim_dense = hidden_dim\n",
    "        if bidirectional:\n",
    "            hidden_dim_dense = hidden_dim * 2\n",
    "        \n",
    "        self.kmer2embedding = nn.Embedding(vocab_size, embedding_size)\n",
    "        self.lstm = nn.LSTM(embedding_size, hidden_dim ,bidirectional=bidirectional,num_layers=number_of_layers)\n",
    "        self.dense = nn.Linear(hidden_dim_dense, labset_dim)        \n",
    "\n",
    "\n",
    "    def forward(self, sequence):\n",
    "        # Input (shape: )\n",
    "        embedded_kmers = self.kmer2embedding(sequence)\n",
    "\n",
    "        # embeddings -> LSTM hiddens (seq_len, batch, num_directions * hidden_size)\n",
    "        out_lstm, _ = self.lstm(embedded_kmers.view(self.sequence_length, self.batch_size, -1)) \n",
    "\n",
    "        # LSTM hiddens -> dense layer \n",
    "        out_dense = self.dense(out_lstm.view(-1, self.hidden_dim*2))\n",
    "\n",
    "        # dense layer -> probabilities\n",
    "        out_log = F.log_softmax(out_dense, dim = 1)\n",
    "        return out_log\n",
    "    \n",
    "    # Not being used for now\n",
    "    def initHidden(self, batch_size, hidden_size):\n",
    "        if self.bidirectional:\n",
    "            return torch.zeros(self.num_layers*2, batch_size, hidden_size, device=this.device)\n",
    "        else:\n",
    "            return torch.zeros(self.num_layers, batch_size, hidden_size, device=this.device)\n",
    "        \n",
    "    # Not being used for now\n",
    "    def create_emb_layer(self, weights_matrix, non_trainable=False):\n",
    "        num_embeddings, embedding_dim = weights_matrix.size()\n",
    "        emb_layer = nn.Embedding(num_embeddings, embedding_dim)\n",
    "        emb_layer.load_state_dict({'weight': weights_matrix})\n",
    "        if non_trainable:\n",
    "            emb_layer.weight.requires_grad = False\n",
    "            \n",
    "        return emb_layer, num_embeddings, embedding_dim"
   ]
  },
  {
   "cell_type": "code",
   "execution_count": 19,
   "metadata": {},
   "outputs": [
    {
     "data": {
      "text/plain": [
       "device(type='cpu')"
      ]
     },
     "execution_count": 19,
     "metadata": {},
     "output_type": "execute_result"
    }
   ],
   "source": [
    "# Setting up for working with GPU, if available\n",
    "device = torch.device(\"cuda:0\" if torch.cuda.is_available() else \"cpu\")\n",
    "device"
   ]
  },
  {
   "cell_type": "code",
   "execution_count": 130,
   "metadata": {},
   "outputs": [],
   "source": [
    "# parameters for grid search\n",
    "window_sizes = [3] # [1, 3, 5, 7]\n",
    "strides = [1] # [1, 2]\n",
    "batch_sizes = [30] # [30, 60, 120] \n",
    "embedding_layer_sizes = [50] # [50, 100]\n",
    "hidden_layer_sizes = [30] # [30, 50, 80]\n",
    "epochs_values = [10] # [10, 50, 100]\n",
    "optimizers = ['SGD']#['SGD', 'ADAM']\n",
    "learning_rates = [0.1] # [0.1, 0.01, 0.001] \n",
    "\n",
    "# other important parameters\n",
    "#VOCAB_SIZE = len(kmers_dict)\n",
    "LABSET_DIM = 2\n",
    "BIDIRECTIONAL = True\n",
    "sequence_length = 100\n",
    "genomes_to_use = 10 # len(loaders) for all genomes"
   ]
  },
  {
   "cell_type": "code",
   "execution_count": 131,
   "metadata": {},
   "outputs": [],
   "source": [
    "# get dataset\n",
    "loader = PhageLoader(\"data/\")"
   ]
  },
  {
   "cell_type": "code",
   "execution_count": 132,
   "metadata": {},
   "outputs": [
    {
     "data": {
      "text/plain": [
       "[(3, 1, 30, 50, 30, 10, 'SGD', 0.1)]"
      ]
     },
     "execution_count": 132,
     "metadata": {},
     "output_type": "execute_result"
    }
   ],
   "source": [
    "from itertools import product\n",
    "\n",
    "hyperparams_configs = list(product(window_sizes, \\\n",
    "                                   strides, batch_sizes, \\\n",
    "                                   embedding_layer_sizes, \\\n",
    "                                   hidden_layer_sizes, \\\n",
    "                                   epochs_values, \\\n",
    "                                   optimizers, \\\n",
    "                                   learning_rates))\n",
    "hyperparams_configs"
   ]
  },
  {
   "cell_type": "code",
   "execution_count": 7,
   "metadata": {},
   "outputs": [],
   "source": [
    "# Here just to speed up prototyping but it should be inside the loop\n",
    "#experiment_loader = loader.get_data_loader(n='all',read_length=sequence_length, batch_size=30, k=3, stride=1, embedding=\"dict\", embed_size=None, drop_last=False)\n",
    "dataset = loader.get_data_set(n_files=genomes_to_use,read_length=sequence_length, batch_size=30, k=3, stride=1, embedding=\"dict\", embed_size=None, drop_last=False)\n",
    "# n -> how many files to bring\n",
    "# read_length -> length of the sequence to read (in terms of number of k-mers)\n",
    "# batch_size -> number of rows to recieve of length \"read_length\"\n",
    "# k -> k-mer k\n",
    "# stride -> stride for the kmer read\n",
    "# embedding: \"dict\" to return a dictionary with the combinations of letters"
   ]
  },
  {
   "cell_type": "code",
   "execution_count": 133,
   "metadata": {},
   "outputs": [
    {
     "name": "stdout",
     "output_type": "stream",
     "text": [
      "DATA loading ...\n",
      "41649 33321 4164 4164\n",
      "DATA loaded\n",
      "Running experiment with (window_size = 3, stride = 1, batch_size = 30, embedding_layer_size = 50, hidden_layer_size = 30, epochs = 10, optimizer = SGD, learning_rate = 0.1)\n",
      "[1,   100] loss: 0.017\n",
      "[1,   200] loss: 0.016\n",
      "[1,   300] loss: 0.016\n",
      "[1,   400] loss: 0.016\n",
      "[1,   500] loss: 0.017\n",
      "[1,   600] loss: 0.015\n",
      "[1,   700] loss: 0.016\n",
      "[1,   800] loss: 0.016\n",
      "[1,   900] loss: 0.015\n",
      "[1,  1000] loss: 0.016\n",
      "[1,  1100] loss: 0.016\n",
      "[2,   100] loss: 0.018\n",
      "[2,   200] loss: 0.015\n",
      "[2,   300] loss: 0.015\n",
      "[2,   400] loss: 0.016\n",
      "[2,   500] loss: 0.016\n",
      "[2,   600] loss: 0.016\n",
      "[2,   700] loss: 0.016\n",
      "[2,   800] loss: 0.015\n",
      "[2,   900] loss: 0.016\n",
      "[2,  1000] loss: 0.015\n",
      "[2,  1100] loss: 0.016\n",
      "[3,   100] loss: 0.017\n",
      "[3,   200] loss: 0.016\n",
      "[3,   300] loss: 0.016\n",
      "[3,   400] loss: 0.016\n",
      "[3,   500] loss: 0.015\n",
      "[3,   600] loss: 0.015\n",
      "[3,   700] loss: 0.016\n",
      "[3,   800] loss: 0.016\n",
      "[3,   900] loss: 0.017\n",
      "[3,  1000] loss: 0.015\n",
      "[3,  1100] loss: 0.016\n",
      "[4,   100] loss: 0.018\n",
      "[4,   200] loss: 0.016\n",
      "[4,   300] loss: 0.016\n",
      "[4,   400] loss: 0.016\n",
      "[4,   500] loss: 0.016\n",
      "[4,   600] loss: 0.016\n",
      "[4,   700] loss: 0.015\n",
      "[4,   800] loss: 0.016\n",
      "[4,   900] loss: 0.015\n",
      "[4,  1000] loss: 0.016\n",
      "[4,  1100] loss: 0.016\n",
      "[5,   100] loss: 0.018\n",
      "[5,   200] loss: 0.016\n",
      "[5,   300] loss: 0.015\n",
      "[5,   400] loss: 0.015\n",
      "[5,   500] loss: 0.016\n",
      "[5,   600] loss: 0.016\n",
      "[5,   700] loss: 0.016\n",
      "[5,   800] loss: 0.016\n",
      "[5,   900] loss: 0.016\n",
      "[5,  1000] loss: 0.016\n",
      "[5,  1100] loss: 0.016\n",
      "[6,   100] loss: 0.017\n",
      "[6,   200] loss: 0.016\n",
      "[6,   300] loss: 0.015\n",
      "[6,   400] loss: 0.016\n",
      "[6,   500] loss: 0.016\n",
      "[6,   600] loss: 0.016\n",
      "[6,   700] loss: 0.016\n",
      "[6,   800] loss: 0.015\n",
      "[6,   900] loss: 0.016\n",
      "[6,  1000] loss: 0.016\n",
      "[6,  1100] loss: 0.016\n",
      "[7,   100] loss: 0.017\n",
      "[7,   200] loss: 0.016\n",
      "[7,   300] loss: 0.017\n",
      "[7,   400] loss: 0.016\n",
      "[7,   500] loss: 0.016\n",
      "[7,   600] loss: 0.016\n",
      "[7,   700] loss: 0.016\n",
      "[7,   800] loss: 0.016\n",
      "[7,   900] loss: 0.016\n",
      "[7,  1000] loss: 0.016\n",
      "[7,  1100] loss: 0.016\n",
      "[8,   100] loss: 0.018\n",
      "[8,   200] loss: 0.016\n",
      "[8,   300] loss: 0.015\n",
      "[8,   400] loss: 0.016\n",
      "[8,   500] loss: 0.015\n",
      "[8,   600] loss: 0.016\n",
      "[8,   700] loss: 0.015\n",
      "[8,   800] loss: 0.015\n",
      "[8,   900] loss: 0.016\n",
      "[8,  1000] loss: 0.016\n",
      "[8,  1100] loss: 0.016\n",
      "[9,   100] loss: 0.017\n",
      "[9,   200] loss: 0.017\n",
      "[9,   300] loss: 0.016\n",
      "[9,   400] loss: 0.016\n",
      "[9,   500] loss: 0.015\n",
      "[9,   600] loss: 0.016\n",
      "[9,   700] loss: 0.016\n",
      "[9,   800] loss: 0.016\n",
      "[9,   900] loss: 0.016\n",
      "[9,  1000] loss: 0.015\n",
      "[9,  1100] loss: 0.015\n"
     ]
    },
    {
     "ename": "KeyboardInterrupt",
     "evalue": "",
     "output_type": "error",
     "traceback": [
      "\u001b[0;31m---------------------------------------------------------------------------\u001b[0m",
      "\u001b[0;31mKeyboardInterrupt\u001b[0m                         Traceback (most recent call last)",
      "\u001b[0;32m<ipython-input-133-911d1bdd870b>\u001b[0m in \u001b[0;36m<module>\u001b[0;34m\u001b[0m\n\u001b[1;32m     85\u001b[0m \u001b[0;34m\u001b[0m\u001b[0m\n\u001b[1;32m     86\u001b[0m             \u001b[0;31m# Metrics on training set\u001b[0m\u001b[0;34m\u001b[0m\u001b[0;34m\u001b[0m\u001b[0;34m\u001b[0m\u001b[0m\n\u001b[0;32m---> 87\u001b[0;31m             \u001b[0mtn_e\u001b[0m\u001b[0;34m,\u001b[0m \u001b[0mfp_e\u001b[0m\u001b[0;34m,\u001b[0m \u001b[0mfn_e\u001b[0m\u001b[0;34m,\u001b[0m \u001b[0mtp_e\u001b[0m \u001b[0;34m=\u001b[0m \u001b[0mget_confusion_matrix\u001b[0m\u001b[0;34m(\u001b[0m\u001b[0mbasicLSTM\u001b[0m\u001b[0;34m,\u001b[0m \u001b[0mtrain\u001b[0m\u001b[0;34m)\u001b[0m\u001b[0;34m\u001b[0m\u001b[0;34m\u001b[0m\u001b[0m\n\u001b[0m\u001b[1;32m     88\u001b[0m             \u001b[0mtn\u001b[0m\u001b[0;34m.\u001b[0m\u001b[0mappend\u001b[0m\u001b[0;34m(\u001b[0m\u001b[0mtn_e\u001b[0m\u001b[0;34m)\u001b[0m\u001b[0;34m;\u001b[0m \u001b[0mfp\u001b[0m\u001b[0;34m.\u001b[0m\u001b[0mappend\u001b[0m\u001b[0;34m(\u001b[0m\u001b[0mfp_e\u001b[0m\u001b[0;34m)\u001b[0m\u001b[0;34m;\u001b[0m \u001b[0mfn\u001b[0m\u001b[0;34m.\u001b[0m\u001b[0mappend\u001b[0m\u001b[0;34m(\u001b[0m\u001b[0mfn_e\u001b[0m\u001b[0;34m)\u001b[0m\u001b[0;34m;\u001b[0m \u001b[0mtp\u001b[0m\u001b[0;34m.\u001b[0m\u001b[0mappend\u001b[0m\u001b[0;34m(\u001b[0m\u001b[0mtp_e\u001b[0m\u001b[0;34m)\u001b[0m\u001b[0;34m;\u001b[0m\u001b[0;34m\u001b[0m\u001b[0;34m\u001b[0m\u001b[0m\n\u001b[1;32m     89\u001b[0m             \u001b[0mdataset_type\u001b[0m\u001b[0;34m.\u001b[0m\u001b[0mappend\u001b[0m\u001b[0;34m(\u001b[0m\u001b[0;34m'train'\u001b[0m\u001b[0;34m)\u001b[0m\u001b[0;34m\u001b[0m\u001b[0;34m\u001b[0m\u001b[0m\n",
      "\u001b[0;32m<ipython-input-125-81ec06137b10>\u001b[0m in \u001b[0;36mget_confusion_matrix\u001b[0;34m(model, dataset)\u001b[0m\n\u001b[1;32m     14\u001b[0m             \u001b[0my_lists\u001b[0m\u001b[0;34m.\u001b[0m\u001b[0mappend\u001b[0m\u001b[0;34m(\u001b[0m\u001b[0my\u001b[0m\u001b[0;34m.\u001b[0m\u001b[0mview\u001b[0m\u001b[0;34m(\u001b[0m\u001b[0;34m-\u001b[0m\u001b[0;36m1\u001b[0m\u001b[0;34m)\u001b[0m\u001b[0;34m.\u001b[0m\u001b[0mnumpy\u001b[0m\u001b[0;34m(\u001b[0m\u001b[0;34m)\u001b[0m\u001b[0;34m)\u001b[0m\u001b[0;34m\u001b[0m\u001b[0;34m\u001b[0m\u001b[0m\n\u001b[1;32m     15\u001b[0m             \u001b[0mpreds_lists\u001b[0m\u001b[0;34m.\u001b[0m\u001b[0mappend\u001b[0m\u001b[0;34m(\u001b[0m\u001b[0mpreds\u001b[0m\u001b[0;34m.\u001b[0m\u001b[0mview\u001b[0m\u001b[0;34m(\u001b[0m\u001b[0;34m-\u001b[0m\u001b[0;36m1\u001b[0m\u001b[0;34m)\u001b[0m\u001b[0;34m.\u001b[0m\u001b[0mnumpy\u001b[0m\u001b[0;34m(\u001b[0m\u001b[0;34m)\u001b[0m\u001b[0;34m)\u001b[0m\u001b[0;34m\u001b[0m\u001b[0;34m\u001b[0m\u001b[0m\n\u001b[0;32m---> 16\u001b[0;31m             \u001b[0;32mfor\u001b[0m \u001b[0mt\u001b[0m\u001b[0;34m,\u001b[0m \u001b[0mp\u001b[0m \u001b[0;32min\u001b[0m \u001b[0mzip\u001b[0m\u001b[0;34m(\u001b[0m\u001b[0my\u001b[0m\u001b[0;34m.\u001b[0m\u001b[0mview\u001b[0m\u001b[0;34m(\u001b[0m\u001b[0;34m-\u001b[0m\u001b[0;36m1\u001b[0m\u001b[0;34m)\u001b[0m\u001b[0;34m,\u001b[0m \u001b[0mpreds\u001b[0m\u001b[0;34m.\u001b[0m\u001b[0mview\u001b[0m\u001b[0;34m(\u001b[0m\u001b[0;34m-\u001b[0m\u001b[0;36m1\u001b[0m\u001b[0;34m)\u001b[0m\u001b[0;34m)\u001b[0m\u001b[0;34m:\u001b[0m\u001b[0;34m\u001b[0m\u001b[0;34m\u001b[0m\u001b[0m\n\u001b[0m\u001b[1;32m     17\u001b[0m                     \u001b[0mconfusion_matrix_manual\u001b[0m\u001b[0;34m[\u001b[0m\u001b[0mt\u001b[0m\u001b[0;34m.\u001b[0m\u001b[0mlong\u001b[0m\u001b[0;34m(\u001b[0m\u001b[0;34m)\u001b[0m\u001b[0;34m,\u001b[0m \u001b[0mp\u001b[0m\u001b[0;34m.\u001b[0m\u001b[0mlong\u001b[0m\u001b[0;34m(\u001b[0m\u001b[0;34m)\u001b[0m\u001b[0;34m]\u001b[0m \u001b[0;34m+=\u001b[0m \u001b[0;36m1\u001b[0m\u001b[0;34m\u001b[0m\u001b[0;34m\u001b[0m\u001b[0m\n\u001b[1;32m     18\u001b[0m \u001b[0;34m\u001b[0m\u001b[0m\n",
      "\u001b[0;32m/anaconda3/lib/python3.6/site-packages/torch/tensor.py\u001b[0m in \u001b[0;36m<lambda>\u001b[0;34m(i)\u001b[0m\n\u001b[1;32m    426\u001b[0m                           \u001b[0;34m'iterations executed (and might lead to errors or silently give '\u001b[0m\u001b[0;34m\u001b[0m\u001b[0;34m\u001b[0m\u001b[0m\n\u001b[1;32m    427\u001b[0m                           'incorrect results).', category=RuntimeWarning)\n\u001b[0;32m--> 428\u001b[0;31m         \u001b[0;32mreturn\u001b[0m \u001b[0miter\u001b[0m\u001b[0;34m(\u001b[0m\u001b[0mimap\u001b[0m\u001b[0;34m(\u001b[0m\u001b[0;32mlambda\u001b[0m \u001b[0mi\u001b[0m\u001b[0;34m:\u001b[0m \u001b[0mself\u001b[0m\u001b[0;34m[\u001b[0m\u001b[0mi\u001b[0m\u001b[0;34m]\u001b[0m\u001b[0;34m,\u001b[0m \u001b[0mrange\u001b[0m\u001b[0;34m(\u001b[0m\u001b[0mself\u001b[0m\u001b[0;34m.\u001b[0m\u001b[0msize\u001b[0m\u001b[0;34m(\u001b[0m\u001b[0;36m0\u001b[0m\u001b[0;34m)\u001b[0m\u001b[0;34m)\u001b[0m\u001b[0;34m)\u001b[0m\u001b[0;34m)\u001b[0m\u001b[0;34m\u001b[0m\u001b[0;34m\u001b[0m\u001b[0m\n\u001b[0m\u001b[1;32m    429\u001b[0m \u001b[0;34m\u001b[0m\u001b[0m\n\u001b[1;32m    430\u001b[0m     \u001b[0;32mdef\u001b[0m \u001b[0m__hash__\u001b[0m\u001b[0;34m(\u001b[0m\u001b[0mself\u001b[0m\u001b[0;34m)\u001b[0m\u001b[0;34m:\u001b[0m\u001b[0;34m\u001b[0m\u001b[0;34m\u001b[0m\u001b[0m\n",
      "\u001b[0;31mKeyboardInterrupt\u001b[0m: "
     ]
    }
   ],
   "source": [
    "# TRAIN\n",
    "# Set up the experiment \n",
    "\n",
    "print('DATA loading ...')\n",
    "dataset = loader.get_data_set(n_files=genomes_to_use,read_length=100, batch_size=1, k=3, stride=1, embedding=\"dict\", embed_size=None, drop_last=False)\n",
    "train_sampler, valid_sampler, test_sampler = split_sets(dataset)\n",
    "print('DATA loaded')\n",
    "\n",
    "for (window_size, stride, batch_size, embedding_layer_size, hidden_layer_size, epochs, optimizer, learning_rate) in hyperparams_configs:\n",
    "    \n",
    "    print('Running experiment with (window_size = %s, stride = %s, batch_size = %s, embedding_layer_size = %s, hidden_layer_size = %s, epochs = %s, optimizer = %s, learning_rate = %s)' % (window_size, stride, batch_size, embedding_layer_size, hidden_layer_size, epochs, optimizer, learning_rate))\n",
    "    \n",
    "    train = torch.utils.data.DataLoader(dataset, batch_size=batch_size, \n",
    "                                               sampler=train_sampler,drop_last=True)\n",
    "    validation = torch.utils.data.DataLoader(dataset, batch_size=batch_size,\n",
    "                                                        sampler=valid_sampler,drop_last=True)\n",
    "    test = torch.utils.data.DataLoader(dataset, batch_size=batch_size,\n",
    "                                                        sampler=test_sampler,drop_last=True)\n",
    "    \n",
    "    VOCAB_SIZE = 4**window_size\n",
    "    \n",
    "    basicLSTM = BasicLSTM(vocab_size = VOCAB_SIZE, \\\n",
    "              embedding_size = embedding_layer_size, \\\n",
    "              hidden_dim = hidden_layer_size,\\\n",
    "            sequence_length = 100, \\\n",
    "            batch_size = batch_size, \\\n",
    "              labset_dim= LABSET_DIM,\\\n",
    "              number_of_layers = 1, \\\n",
    "              bidirectional=BIDIRECTIONAL, \\\n",
    "              device=device)\n",
    "    \n",
    "    basicLSTM.to(device) # will move to cuda if available\n",
    "    loss_function = nn.NLLLoss()\n",
    "    optimizer = optim.SGD(basicLSTM.parameters(), lr=learning_rate)\n",
    "    if optimizer == 'ADAM':\n",
    "        pass # use ADAM\n",
    "\n",
    "    # For the reports\n",
    "    losses = []\n",
    "    running_loss = 0\n",
    "    tn = [] \n",
    "    fp = [] \n",
    "    fn = [] \n",
    "    tp = []\n",
    "    e_running_loss = [] \n",
    "    dataset_type = [] \n",
    "    epochs_ids = []\n",
    "\n",
    "\n",
    "    for epoch in range(epochs):\n",
    "\n",
    "            # Iterate over all the training set\n",
    "            for b, (x, y) in enumerate(train):\n",
    "\n",
    "                basicLSTM.zero_grad()                    \n",
    "                x = x.type(torch.LongTensor)\n",
    "                y = y.type(torch.LongTensor)\n",
    "                x, y = x.to(device), y.to(device)\n",
    "                if y.size()[0] != batch_size:\n",
    "                    break\n",
    "\n",
    "                out = basicLSTM(x)  \n",
    "                y = y.view(batch_size*sequence_length)\n",
    "                out = out.view(batch_size*sequence_length,2)\n",
    "                loss = loss_function(out, y)\n",
    "                losses.append(loss.item())\n",
    "\n",
    "                loss.backward()\n",
    "                optimizer.step()\n",
    "\n",
    "                # print statistics\n",
    "                running_loss += loss.item()\n",
    "                if b % 100 == 99:\n",
    "                #if i % 2000 == 1999:    # print every 2000 mini-batches\n",
    "                    print('[%d, %5d] loss: %.3f' %\n",
    "                          (epoch + 1, b + 1, running_loss / 2000))\n",
    "                    running_loss = 0.0\n",
    "        \n",
    "            # Compute metrics for each epoch\n",
    "\n",
    "            epochs_ids.append(epoch); epochs_ids.append(epoch);\n",
    "            e_running_loss.append(running_loss); e_running_loss.append(running_loss);\n",
    "\n",
    "            nb_classes = 2\n",
    "\n",
    "            # Metrics on training set\n",
    "            tn_e, fp_e, fn_e, tp_e = get_confusion_matrix(basicLSTM, train)\n",
    "            tn.append(tn_e); fp.append(fp_e); fn.append(fn_e); tp.append(tp_e);\n",
    "            dataset_type.append('train')\n",
    "            \n",
    "            # Metrics on validation set\n",
    "            tn_e, fp_e, fn_e, tp_e = get_confusion_matrix(basicLSTM, validation)\n",
    "            tn.append(tn_e); fp.append(fp_e); fn.append(fn_e); tp.append(tp_e);\n",
    "            dataset_type.append('validation')\n",
    "            \n",
    "    experiment_report = pd.DataFrame({'epoch': epochs_ids,\\\n",
    "                                     'running_loss': e_running_loss,\\\n",
    "                                     'dataset_type': dataset_type,\\\n",
    "                                     'tn': tn,\\\n",
    "                                     'fp': fp,\\\n",
    "                                     'fn': fn,\\\n",
    "                                     'tp': tp})\n",
    "        "
   ]
  },
  {
   "cell_type": "markdown",
   "metadata": {},
   "source": [
    "It took 25 minutes with 10 genomes and 10 epochs. "
   ]
  },
  {
   "cell_type": "code",
   "execution_count": 128,
   "metadata": {},
   "outputs": [
    {
     "data": {
      "text/html": [
       "<div>\n",
       "<style scoped>\n",
       "    .dataframe tbody tr th:only-of-type {\n",
       "        vertical-align: middle;\n",
       "    }\n",
       "\n",
       "    .dataframe tbody tr th {\n",
       "        vertical-align: top;\n",
       "    }\n",
       "\n",
       "    .dataframe thead th {\n",
       "        text-align: right;\n",
       "    }\n",
       "</style>\n",
       "<table border=\"1\" class=\"dataframe\">\n",
       "  <thead>\n",
       "    <tr style=\"text-align: right;\">\n",
       "      <th></th>\n",
       "      <th>epoch</th>\n",
       "      <th>running_loss</th>\n",
       "      <th>dataset_type</th>\n",
       "      <th>tn</th>\n",
       "      <th>fp</th>\n",
       "      <th>fn</th>\n",
       "      <th>tp</th>\n",
       "      <th>accuracy</th>\n",
       "    </tr>\n",
       "  </thead>\n",
       "  <tbody>\n",
       "    <tr>\n",
       "      <th>0</th>\n",
       "      <td>0</td>\n",
       "      <td>6.125306</td>\n",
       "      <td>train</td>\n",
       "      <td>0.0</td>\n",
       "      <td>54358.0</td>\n",
       "      <td>0.0</td>\n",
       "      <td>611642.0</td>\n",
       "      <td>0.918381</td>\n",
       "    </tr>\n",
       "    <tr>\n",
       "      <th>1</th>\n",
       "      <td>0</td>\n",
       "      <td>6.125306</td>\n",
       "      <td>validation</td>\n",
       "      <td>0.0</td>\n",
       "      <td>7654.0</td>\n",
       "      <td>0.0</td>\n",
       "      <td>73346.0</td>\n",
       "      <td>0.905506</td>\n",
       "    </tr>\n",
       "  </tbody>\n",
       "</table>\n",
       "</div>"
      ],
      "text/plain": [
       "   epoch  running_loss dataset_type   tn       fp   fn        tp  accuracy\n",
       "0      0      6.125306        train  0.0  54358.0  0.0  611642.0  0.918381\n",
       "1      0      6.125306   validation  0.0   7654.0  0.0   73346.0  0.905506"
      ]
     },
     "execution_count": 128,
     "metadata": {},
     "output_type": "execute_result"
    }
   ],
   "source": [
    "experiment_report['accuracy'] = experiment_report.apply(lambda row: (row.tp + row.tn)/(row.tp + row.tn + row.fp + row.fn),axis=1)\n",
    "experiment_report"
   ]
  },
  {
   "cell_type": "code",
   "execution_count": null,
   "metadata": {},
   "outputs": [],
   "source": [
    "experiment_report.to_csv('experiments_reports/test_report1.csv')"
   ]
  },
  {
   "cell_type": "code",
   "execution_count": 126,
   "metadata": {},
   "outputs": [
    {
     "data": {
      "text/plain": [
       "23002"
      ]
     },
     "execution_count": 126,
     "metadata": {},
     "output_type": "execute_result"
    }
   ],
   "source": [
    "# Number of trainable parameters of pytorch model\n",
    "#pytorch_total_params = sum(p.numel() for p in model.parameters())\n",
    "pytorch_total_params = sum(p.numel() for p in basicLSTM.parameters() if p.requires_grad)\n",
    "pytorch_total_params"
   ]
  },
  {
   "cell_type": "code",
   "execution_count": 127,
   "metadata": {},
   "outputs": [
    {
     "data": {
      "text/plain": [
       "<matplotlib.axes._subplots.AxesSubplot at 0x1a2afb57b8>"
      ]
     },
     "execution_count": 127,
     "metadata": {},
     "output_type": "execute_result"
    },
    {
     "data": {
      "image/png": "[encoded data removed]",
      "text/plain": [
       "<Figure size 936x360 with 1 Axes>"
      ]
     },
     "metadata": {
      "needs_background": "light"
     },
     "output_type": "display_data"
    }
   ],
   "source": [
    "#losses\n",
    "plt.figure(figsize=(13,5))\n",
    "sns.lineplot(x=range(len(losses)),y=losses)"
   ]
  },
  {
   "cell_type": "code",
   "execution_count": 146,
   "metadata": {},
   "outputs": [
    {
     "name": "stdout",
     "output_type": "stream",
     "text": [
      "Accuracy of inter-genic : 100 %\n",
      "Accuracy of genic :  0 %\n"
     ]
    }
   ],
   "source": [
    "class_correct = list(0. for i in range(2))\n",
    "class_total = list(0. for i in range(2))\n",
    "classes = {0: 'inter-genic', 1: 'genic'}\n",
    "\n",
    "with torch.no_grad():\n",
    "    for i, (raw_kmer, raw_labels) in enumerate(test):\n",
    "        kmer = prepareSequence(raw_kmer, kmers_dict)\n",
    "        labels = torch.tensor(raw_labels)\n",
    "        out = basicLSTM(labels)\n",
    "        _, predicted = torch.max(out, 1)\n",
    "        c = (predicted == labels).squeeze()\n",
    "        for i in range(1):\n",
    "            label = labels[i]\n",
    "            class_correct[label] += c[i].item()\n",
    "            class_total[label] += 1\n",
    "\n",
    "\n",
    "for i in range(2):\n",
    "    print('Accuracy of %5s : %2d %%' % (\n",
    "        classes[i], 100 * class_correct[i] / class_total[i]))"
   ]
  },
  {
   "cell_type": "code",
   "execution_count": 145,
   "metadata": {},
   "outputs": [
    {
     "data": {
      "text/plain": [
       "\u001b[0;31mDocstring:\u001b[0m\n",
       "squeeze(dim=None) -> Tensor\n",
       "\n",
       "See :func:`torch.squeeze`\n",
       "\u001b[0;31mType:\u001b[0m      method_descriptor\n"
      ]
     },
     "metadata": {},
     "output_type": "display_data"
    }
   ],
   "source": [
    "?torch.Tensor.squeeze"
   ]
  },
  {
   "cell_type": "markdown",
   "metadata": {},
   "source": [
    "## Extra functions"
   ]
  },
  {
   "cell_type": "code",
   "execution_count": 38,
   "metadata": {},
   "outputs": [],
   "source": [
    "# Returns a sampler for each set of the design set\n",
    "def split_sets(dataset):\n",
    "    n = len(dataset)  # how many total elements you have\n",
    "    test_size = .1\n",
    "    n_test = int( n * test_size )  # number of test/val elements\n",
    "    n_train = n - 2 * n_test\n",
    "\n",
    "    idx = list(range(n))  # indices to all elements\n",
    "    np.random.shuffle(idx)  # in-place shuffle the indices to facilitate random splitting\n",
    "    train_idx = idx[:n_train]\n",
    "    val_idx = idx[n_train:(n_train + n_test)]\n",
    "    test_idx = idx[(n_train + n_test):]\n",
    "\n",
    "    print(n,len(train_idx),len(val_idx),len(test_idx))\n",
    "    train_sampler = SubsetRandomSampler(train_idx)\n",
    "    valid_sampler = SubsetRandomSampler(val_idx)\n",
    "    test_sampler = SubsetRandomSampler(test_idx)\n",
    "    \n",
    "    return train_sampler, valid_sampler, test_sampler"
   ]
  },
  {
   "cell_type": "code",
   "execution_count": 14,
   "metadata": {},
   "outputs": [
    {
     "name": "stdout",
     "output_type": "stream",
     "text": [
      "8328 6664 832 832\n"
     ]
    }
   ],
   "source": [
    "train, validation, test = split_sets(dataset, 30)"
   ]
  },
  {
   "cell_type": "code",
   "execution_count": 125,
   "metadata": {},
   "outputs": [],
   "source": [
    "# [[y0 and pred0 (), y0 and pred1 ()]\n",
    "# [y1 and pred0 (), y1 and pred1 (TP)]]]\n",
    "def get_confusion_matrix(model, dataset):\n",
    "    y_lists = []\n",
    "    preds_lists = []\n",
    "    confusion_matrix_manual = torch.zeros(2, 2)\n",
    "    with torch.no_grad():\n",
    "        for i, (x, y) in enumerate(dataset):\n",
    "            x = x.type(torch.LongTensor)\n",
    "            y = y.type(torch.LongTensor)\n",
    "            x, y = x.to(device), y.to(device)\n",
    "            out = model(x)\n",
    "            _, preds = torch.max(out, 1)\n",
    "            y_lists.append(y.view(-1).numpy())\n",
    "            preds_lists.append(preds.view(-1).numpy())\n",
    "            for t, p in zip(y.view(-1), preds.view(-1)):\n",
    "                    confusion_matrix_manual[t.long(), p.long()] += 1\n",
    "\n",
    "#     To compare with numpy\n",
    "#     y_array = np.concatenate(y_lists)\n",
    "#     preds_array = np.concatenate(preds_lists)\n",
    "#     print(preds_array.shape)\n",
    "#     print(preds_array)\n",
    "#     sk_confusion = confusion_matrix(y_array, preds_array)\n",
    "\n",
    "    \n",
    "    tn, fp, fn, tp= confusion_matrix_manual.numpy().ravel()\n",
    "    \n",
    "    return (tn, fp, fn, tp)"
   ]
  },
  {
   "cell_type": "code",
   "execution_count": null,
   "metadata": {},
   "outputs": [],
   "source": []
  }
 ],
 "metadata": {
  "kernelspec": {
   "display_name": "Python 3",
   "language": "python",
   "name": "python3"
  },
  "language_info": {
   "codemirror_mode": {
    "name": "ipython",
    "version": 3
   },
   "file_extension": ".py",
   "mimetype": "text/x-python",
   "name": "python",
   "nbconvert_exporter": "python",
   "pygments_lexer": "ipython3",
   "version": "3.6.8"
  }
 },
 "nbformat": 4,
 "nbformat_minor": 2
}
