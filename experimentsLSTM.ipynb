{
 "cells": [
  {
   "cell_type": "markdown",
   "metadata": {},
   "source": [
    "# Experiments LSTM net\n",
    "\n",
    "Here we tried to replicate the network that was used in [this](https://www.nature.com/articles/s41598-018-33321-1#Sec2) paper. But instead of using GRU we used LSTM. "
   ]
  },
  {
   "cell_type": "code",
   "execution_count": 1,
   "metadata": {},
   "outputs": [],
   "source": [
    "import pandas as pd\n",
    "\n",
    "import torch\n",
    "import torch.nn as nn\n",
    "import torch.nn.functional as F\n",
    "import torch.optim as optim\n",
    "\n",
    "from itertools import product\n",
    "import numpy as np\n",
    "import matplotlib.pyplot as plt\n",
    "import seaborn as sns\n",
    "\n",
    "%matplotlib inline"
   ]
  },
  {
   "cell_type": "code",
   "execution_count": 2,
   "metadata": {},
   "outputs": [],
   "source": [
    "genomes = pd.read_csv('data/Input_file.txt', sep=';', header=None)\n",
    "genomes.columns = ['id', 'sequence', 'coding_regions', 'labels', 'type']"
   ]
  },
  {
   "cell_type": "code",
   "execution_count": 3,
   "metadata": {},
   "outputs": [
    {
     "name": "stdout",
     "output_type": "stream",
     "text": [
      "159624\n",
      "159624\n"
     ]
    }
   ],
   "source": [
    "print(len(genomes.loc[0, 'sequence']))\n",
    "print(len(genomes.loc[0, 'labels']))"
   ]
  },
  {
   "cell_type": "code",
   "execution_count": 4,
   "metadata": {},
   "outputs": [],
   "source": [
    "from statistics import mode \n",
    "def chooseLabel(labels, scheme='majority'):\n",
    "    if scheme == 'majority':\n",
    "        return mode(labels)"
   ]
  },
  {
   "cell_type": "code",
   "execution_count": 5,
   "metadata": {},
   "outputs": [],
   "source": [
    "def getDesignSet(sequence, labels, window_size, stride, sequence_length_threshold):\n",
    "\n",
    "    out_set = []\n",
    "\n",
    "    if stride > window_size:\n",
    "        print('ERROR! stride is larger than window size')\n",
    "\n",
    "    if len(sequence) != len(labels):\n",
    "        print('ERROR! sequence and labels lengths dont match')\n",
    "\n",
    "    words_dataset = (len(sequence) - (window_size - stride))/ stride\n",
    "    print('Words in dataset: ' + str(words_dataset))\n",
    "\n",
    "    position = 0\n",
    "    while position < len(sequence) - 1:\n",
    "\n",
    "        if (len(sequence) - 1) - position < sequence_length_threshold:\n",
    "            print('Too short to add, position: ' + str(position))\n",
    "            break\n",
    "\n",
    "        sub_sequence = []\n",
    "        sub_labels = []\n",
    "        for i in range(0, sequence_length_threshold, stride):\n",
    "            temp_seq = []\n",
    "            temp_lab = []\n",
    "            for j in range(window_size):\n",
    "                temp_seq.append(sequence[position + j])\n",
    "                temp_lab.append(int(labels[position + j]))\n",
    "            sub_sequence.append(''.join(temp_seq))\n",
    "            sub_labels.append(chooseLabel(temp_lab, scheme='majority'))\n",
    "            position += stride\n",
    "\n",
    "        out_set.append((sub_sequence, sub_labels))\n",
    "    \n",
    "    print(len(out_set))\n",
    "        \n",
    "    return out_set"
   ]
  },
  {
   "cell_type": "code",
   "execution_count": 8,
   "metadata": {},
   "outputs": [
    {
     "name": "stdout",
     "output_type": "stream",
     "text": [
      "nucleotides in dataset: 1160796\n",
      "Words in dataset: 580396.5\n",
      "Too short to add, position: 1160700\n",
      "11607\n",
      "Size design set: 11607\n"
     ]
    }
   ],
   "source": [
    "window_size = 5\n",
    "stride = 2\n",
    "sequence_length_threshold = 100\n",
    "genomes_to_load = 10\n",
    "\n",
    "raw_sequence = ''\n",
    "raw_labels = ''\n",
    "for i in range(0, genomes.shape[0] if genomes.shape[0] < genomes_to_load else genomes_to_load):\n",
    "    raw_sequence = raw_sequence + genomes.loc[i, 'sequence']\n",
    "    raw_labels = raw_labels + genomes.loc[i, 'labels']\n",
    "    \n",
    "# clean\n",
    "sequence = []\n",
    "labels = []\n",
    "for i in range(len(raw_sequence)):\n",
    "    if raw_sequence[i] in 'AGCT':\n",
    "        sequence.append(raw_sequence[i])\n",
    "        labels.append(raw_labels[i])\n",
    "\n",
    "print('nucleotides in dataset: ' + str(len(sequence)))\n",
    "\n",
    "design_set = getDesignSet(sequence, labels, window_size, stride, sequence_length_threshold)\n",
    "print('Size design set: ' + str(len(design_set)))"
   ]
  },
  {
   "cell_type": "markdown",
   "metadata": {},
   "source": [
    "## Data preparation"
   ]
  },
  {
   "cell_type": "code",
   "execution_count": 9,
   "metadata": {},
   "outputs": [
    {
     "data": {
      "text/plain": [
       "1024"
      ]
     },
     "execution_count": 9,
     "metadata": {},
     "output_type": "execute_result"
    }
   ],
   "source": [
    "letters = 'AGCT'\n",
    "vocab = [''.join(i) for i in product(letters, repeat = window_size)]\n",
    "kmers_dict = {}\n",
    "for i in range(len(vocab)):\n",
    "  kmers_dict[vocab[i]] = i\n",
    "len(kmers_dict)"
   ]
  },
  {
   "cell_type": "code",
   "execution_count": 10,
   "metadata": {},
   "outputs": [],
   "source": [
    "def prepareSequence(sequence, lookup_table):\n",
    "    return torch.tensor([lookup_table[i] for i in sequence], dtype=torch.torch.long)"
   ]
  },
  {
   "cell_type": "markdown",
   "metadata": {},
   "source": [
    "## LSTM"
   ]
  },
  {
   "cell_type": "code",
   "execution_count": 11,
   "metadata": {},
   "outputs": [],
   "source": [
    "class BasicLSTM(nn.Module):\n",
    "    def __init__(self, vocab_size, embedding_size, hidden_dim, labset_dim, bidirectional):\n",
    "        super(BasicLSTM, self).__init__()\n",
    "        \n",
    "        hidden_dim_dense = hidden_dim\n",
    "        if bidirectional:\n",
    "            hidden_dim_dense = hidden_dim * 2\n",
    "        \n",
    "        self.kmer2embedding = nn.Embedding(vocab_size, embedding_size)\n",
    "        self.lstm = nn.LSTM(embedding_size, hidden_dim,bidirectional=bidirectional)\n",
    "        self.dense = nn.Linear(hidden_dim_dense, labset_dim)        \n",
    "\n",
    "#     kmer_embedding = self.kmer_embedder(sequence)\n",
    "#     out, _ = self.left2RightLSTM(kmer_embedding.view(len(sequence), 1, -1))\n",
    "#     transformed_out = self.hidden2lab(out.view(len(sequence), -1))\n",
    "#     labels_score = F.log_softmax(transformed_out, dim=1)\n",
    "#     return labels_score\n",
    "\n",
    "    def forward(self, sequence):\n",
    "#         print(\"Input\")\n",
    "#         print(sequence.shape)\n",
    "#         print(sequence)\n",
    "        embedded_kmers = self.kmer2embedding(sequence)\n",
    "#         print(\"Embedded kmers\")\n",
    "#         print(embedded_kmers.shape)\n",
    "#         print(embedded_kmers)\n",
    "#         print(\"Embedded kmers reshaped\")\n",
    "#         print(embedded_kmers.view(len(sequence), 1, -1).shape)\n",
    "#         print(embedded_kmers.view(len(sequence), 1, -1))\n",
    "        out_lstm, _ = self.lstm(embedded_kmers.view(len(sequence), 1, -1))\n",
    "#         print(\"out lstm\")\n",
    "#         print(out_lstm.view(len(sequence), -1).shape)\n",
    "#         print(out_lstm.view(len(sequence), -1))\n",
    "        out_dense = self.dense(out_lstm.view(len(sequence), -1))\n",
    "#         print(\"out dense\")\n",
    "#         print(out_dense.shape)\n",
    "#         print(out_dense)\n",
    "        out_log = F.log_softmax(out_dense, dim = 1)\n",
    "#         print(out_log)\n",
    "        return out_log"
   ]
  },
  {
   "cell_type": "code",
   "execution_count": 21,
   "metadata": {},
   "outputs": [
    {
     "data": {
      "text/plain": [
       "device(type='cpu')"
      ]
     },
     "execution_count": 21,
     "metadata": {},
     "output_type": "execute_result"
    }
   ],
   "source": [
    "# Setting up for working with GPU, if available\n",
    "device = torch.device(\"cuda:0\" if torch.cuda.is_available() else \"cpu\")\n",
    "device"
   ]
  },
  {
   "cell_type": "code",
   "execution_count": 27,
   "metadata": {},
   "outputs": [
    {
     "ename": "AttributeError",
     "evalue": "'BasicLSTM' object has no attribute 'is_cuda'",
     "output_type": "error",
     "traceback": [
      "\u001b[0;31m---------------------------------------------------------------------------\u001b[0m",
      "\u001b[0;31mAttributeError\u001b[0m                            Traceback (most recent call last)",
      "\u001b[0;32m<ipython-input-27-18e35b2fbd94>\u001b[0m in \u001b[0;36m<module>\u001b[0;34m\u001b[0m\n\u001b[1;32m      1\u001b[0m \u001b[0;32mfor\u001b[0m \u001b[0mm\u001b[0m \u001b[0;32min\u001b[0m \u001b[0mbasicLSTM\u001b[0m\u001b[0;34m.\u001b[0m\u001b[0mmodules\u001b[0m\u001b[0;34m(\u001b[0m\u001b[0;34m)\u001b[0m\u001b[0;34m:\u001b[0m\u001b[0;34m\u001b[0m\u001b[0;34m\u001b[0m\u001b[0m\n\u001b[0;32m----> 2\u001b[0;31m     \u001b[0mprint\u001b[0m\u001b[0;34m(\u001b[0m\u001b[0mm\u001b[0m\u001b[0;34m.\u001b[0m\u001b[0mis_cuda\u001b[0m\u001b[0;34m)\u001b[0m\u001b[0;34m\u001b[0m\u001b[0;34m\u001b[0m\u001b[0m\n\u001b[0m",
      "\u001b[0;32m/anaconda3/lib/python3.6/site-packages/torch/nn/modules/module.py\u001b[0m in \u001b[0;36m__getattr__\u001b[0;34m(self, name)\u001b[0m\n\u001b[1;32m    533\u001b[0m                 \u001b[0;32mreturn\u001b[0m \u001b[0mmodules\u001b[0m\u001b[0;34m[\u001b[0m\u001b[0mname\u001b[0m\u001b[0;34m]\u001b[0m\u001b[0;34m\u001b[0m\u001b[0;34m\u001b[0m\u001b[0m\n\u001b[1;32m    534\u001b[0m         raise AttributeError(\"'{}' object has no attribute '{}'\".format(\n\u001b[0;32m--> 535\u001b[0;31m             type(self).__name__, name))\n\u001b[0m\u001b[1;32m    536\u001b[0m \u001b[0;34m\u001b[0m\u001b[0m\n\u001b[1;32m    537\u001b[0m     \u001b[0;32mdef\u001b[0m \u001b[0m__setattr__\u001b[0m\u001b[0;34m(\u001b[0m\u001b[0mself\u001b[0m\u001b[0;34m,\u001b[0m \u001b[0mname\u001b[0m\u001b[0;34m,\u001b[0m \u001b[0mvalue\u001b[0m\u001b[0;34m)\u001b[0m\u001b[0;34m:\u001b[0m\u001b[0;34m\u001b[0m\u001b[0;34m\u001b[0m\u001b[0m\n",
      "\u001b[0;31mAttributeError\u001b[0m: 'BasicLSTM' object has no attribute 'is_cuda'"
     ]
    }
   ],
   "source": [
    "for m in basicLSTM.modules():\n",
    "    print(m.is_cuda)"
   ]
  },
  {
   "cell_type": "code",
   "execution_count": 28,
   "metadata": {},
   "outputs": [],
   "source": [
    "# Set up the experiment \n",
    "\n",
    "VOCAB_SIZE = len(kmers_dict)\n",
    "EMBEDDING_SIZE = 16 #4\n",
    "HIDDEN_DIM = 32 #6\n",
    "LABSET_DIM = 2\n",
    "BIDIRECTIONAL = True\n",
    "\n",
    "basicLSTM = BasicLSTM(VOCAB_SIZE, EMBEDDING_SIZE, HIDDEN_DIM, LABSET_DIM, BIDIRECTIONAL)\n",
    "basicLSTM.to(device) # will move to cuda if available\n",
    "loss_function = nn.NLLLoss()\n",
    "optimizer = optim.SGD(basicLSTM.parameters(), lr=0.1)"
   ]
  },
  {
   "cell_type": "code",
   "execution_count": 13,
   "metadata": {},
   "outputs": [
    {
     "name": "stdout",
     "output_type": "stream",
     "text": [
      "['AACCA', 'CCAGG', 'AGGAA', 'GAACG', 'ACGTG', 'GTGAA', 'GAAAG', 'AAGGA', 'GGAAC', 'AACGA', 'CGATC', 'ATCGG', 'CGGGC', 'GGCAA', 'CAAAG', 'AAGCT', 'GCTGG', 'TGGAA', 'GAAAA', 'AAACT', 'ACTCC', 'TCCAT', 'CATCA', 'TCACT', 'ACTAA', 'TAATC', 'ATCTT', 'CTTAA', 'TAAGG', 'AGGAC', 'GACTC', 'CTCAG', 'CAGTT', 'GTTGC', 'TGCTG', 'CTGAA', 'GAAGT', 'AGTTA', 'TTAGT', 'AGTAA', 'TAACA', 'ACAGG', 'AGGCT', 'GCTTA', 'TTAAG', 'AAGAA', 'GAATG', 'ATGTT', 'GTTGA', 'TGAAG']\n",
      "[0, 0, 0, 0, 0, 0, 0, 0, 0, 0, 0, 0, 0, 0, 0, 0, 0, 0, 0, 0, 0, 0, 0, 0, 0, 0, 0, 0, 0, 0, 0, 0, 0, 0, 0, 0, 0, 0, 0, 0, 0, 0, 0, 0, 0, 0, 0, 0, 0, 0]\n",
      "tensor([ 40, 645,  80, 265, 157, 464, 257,  20, 322,  36, 590, 229, 598, 352,\n",
      "        513,  27, 437, 848, 256,  11, 186, 931, 568, 907, 176, 782, 239, 752,\n",
      "        773,  82, 302, 737, 543, 502, 877, 720, 263, 124, 967, 112, 776, 133,\n",
      "         91, 444, 961,  16, 269, 223, 500, 833])\n",
      "tensor([0, 0, 0, 0, 0, 0, 0, 0, 0, 0, 0, 0, 0, 0, 0, 0, 0, 0, 0, 0, 0, 0, 0, 0,\n",
      "        0, 0, 0, 0, 0, 0, 0, 0, 0, 0, 0, 0, 0, 0, 0, 0, 0, 0, 0, 0, 0, 0, 0, 0,\n",
      "        0, 0])\n"
     ]
    }
   ],
   "source": [
    "# Check that everything is working as expected \n",
    "\n",
    "example_kmer = design_set[0][0]\n",
    "example_label = design_set[0][1]\n",
    "\n",
    "print(example_kmer); print(example_label);\n",
    "\n",
    "example_kmer_tensor = prepareSequence(example_kmer, kmers_dict)\n",
    "example_label_tensor = torch.tensor(example_label, dtype=torch.torch.long)\n",
    "\n",
    "print(example_kmer_tensor); print(example_label_tensor);\n"
   ]
  },
  {
   "cell_type": "code",
   "execution_count": 14,
   "metadata": {},
   "outputs": [
    {
     "name": "stdout",
     "output_type": "stream",
     "text": [
      "train: 8124\n",
      "test: 3483\n"
     ]
    }
   ],
   "source": [
    "train = design_set[0:int(len(design_set) * 0.7)]; print('train: ' + str(len(train)))\n",
    "test = design_set[int(len(design_set) * 0.7):len(design_set)]; print('test: ' + str(len(test)))"
   ]
  },
  {
   "cell_type": "code",
   "execution_count": null,
   "metadata": {},
   "outputs": [
    {
     "name": "stdout",
     "output_type": "stream",
     "text": [
      "[1,   500] loss: 0.076\n"
     ]
    }
   ],
   "source": [
    " # Train \n",
    "    \n",
    "epochs = 10\n",
    "losses = []\n",
    "running_loss = 0\n",
    "\n",
    "for epoch in range(epochs):\n",
    "    \n",
    "    for i, (raw_kmer, raw_labels) in enumerate(train):\n",
    "        \n",
    "        basicLSTM.zero_grad()\n",
    "            \n",
    "        kmer = prepareSequence(raw_kmer, kmers_dict)\n",
    "        labels = torch.tensor(raw_labels)\n",
    "        \n",
    "        kmer, labels = kmer.to(device), labels.to(device)\n",
    "        \n",
    "#         print(kmer)\n",
    "#         print(labels)\n",
    "        \n",
    "        out = basicLSTM(kmer)\n",
    "        loss = loss_function(out, labels)\n",
    "        losses.append(loss.item())\n",
    "        \n",
    "        loss.backward()\n",
    "        optimizer.step()\n",
    "        \n",
    "        # print statistics\n",
    "        running_loss += loss.item()\n",
    "        if i % 500 == 499:\n",
    "        #if i % 2000 == 1999:    # print every 2000 mini-batches\n",
    "            print('[%d, %5d] loss: %.3f' %\n",
    "                  (epoch + 1, i + 1, running_loss / 2000))\n",
    "            running_loss = 0.0"
   ]
  },
  {
   "cell_type": "markdown",
   "metadata": {},
   "source": [
    "* It takes 3:30 minutes to train the network with 558 parameters and 11173 sequences of 10 kmers each. (1 genome)\n",
    "It takes 26:30 minutes to train the network with 29314 parameters and Y sequences of 100 kmers each. (10 genomes)"
   ]
  },
  {
   "cell_type": "code",
   "execution_count": 16,
   "metadata": {},
   "outputs": [
    {
     "data": {
      "text/plain": [
       "29314"
      ]
     },
     "execution_count": 16,
     "metadata": {},
     "output_type": "execute_result"
    }
   ],
   "source": [
    "# Number of trainable parameters of pytorch model\n",
    "#pytorch_total_params = sum(p.numel() for p in model.parameters())\n",
    "pytorch_total_params = sum(p.numel() for p in basicLSTM.parameters() if p.requires_grad)\n",
    "pytorch_total_params"
   ]
  },
  {
   "cell_type": "code",
   "execution_count": 174,
   "metadata": {},
   "outputs": [
    {
     "data": {
      "text/plain": [
       "<matplotlib.axes._subplots.AxesSubplot at 0x1a22dcbef0>"
      ]
     },
     "execution_count": 174,
     "metadata": {},
     "output_type": "execute_result"
    },
    {
     "data": {
      "image/png": "[encoded data removed]",
      "text/plain": [
       "<Figure size 936x360 with 1 Axes>"
      ]
     },
     "metadata": {
      "needs_background": "light"
     },
     "output_type": "display_data"
    }
   ],
   "source": [
    "#losses\n",
    "plt.figure(figsize=(13,5))\n",
    "sns.lineplot(x=range(len(losses)),y=losses)"
   ]
  },
  {
   "cell_type": "code",
   "execution_count": 17,
   "metadata": {},
   "outputs": [],
   "source": [
    "# Test\n",
    "total = 0\n",
    "correct = 0\n",
    "with torch.no_grad():\n",
    "    for i, (raw_kmer, raw_labels) in enumerate(test):\n",
    "        kmer = prepareSequence(raw_kmer, kmers_dict)\n",
    "        labels = torch.tensor(raw_labels)\n",
    "        out = basicLSTM(labels)\n",
    "        _, predicted = torch.max(out, 1)\n",
    "        \n",
    "        total += labels.size(0)\n",
    "        correct += (predicted == labels).sum().item()\n",
    "    "
   ]
  },
  {
   "cell_type": "code",
   "execution_count": 18,
   "metadata": {},
   "outputs": [
    {
     "data": {
      "text/plain": [
       "0.556365202411714"
      ]
     },
     "execution_count": 18,
     "metadata": {},
     "output_type": "execute_result"
    }
   ],
   "source": [
    "# This is a bad result given that roughly 75% of the test set are 0's ... it means it gets all the ones wrong\n",
    "correct/total"
   ]
  },
  {
   "cell_type": "code",
   "execution_count": 19,
   "metadata": {},
   "outputs": [
    {
     "data": {
      "text/plain": [
       "0.44363479758828595"
      ]
     },
     "execution_count": 19,
     "metadata": {},
     "output_type": "execute_result"
    }
   ],
   "source": [
    "# Number of '1's in the test set\n",
    "sum([item for sublist in (b for a,b in test) for item in sublist])/len([item for sublist in (b for a,b in test) for item in sublist])"
   ]
  },
  {
   "cell_type": "code",
   "execution_count": 146,
   "metadata": {},
   "outputs": [
    {
     "name": "stdout",
     "output_type": "stream",
     "text": [
      "Accuracy of inter-genic : 100 %\n",
      "Accuracy of genic :  0 %\n"
     ]
    }
   ],
   "source": [
    "class_correct = list(0. for i in range(2))\n",
    "class_total = list(0. for i in range(2))\n",
    "classes = {0: 'inter-genic', 1: 'genic'}\n",
    "\n",
    "with torch.no_grad():\n",
    "    for i, (raw_kmer, raw_labels) in enumerate(test):\n",
    "        kmer = prepareSequence(raw_kmer, kmers_dict)\n",
    "        labels = torch.tensor(raw_labels)\n",
    "        out = basicLSTM(labels)\n",
    "        _, predicted = torch.max(out, 1)\n",
    "        c = (predicted == labels).squeeze()\n",
    "        for i in range(1):\n",
    "            label = labels[i]\n",
    "            class_correct[label] += c[i].item()\n",
    "            class_total[label] += 1\n",
    "\n",
    "\n",
    "for i in range(2):\n",
    "    print('Accuracy of %5s : %2d %%' % (\n",
    "        classes[i], 100 * class_correct[i] / class_total[i]))"
   ]
  },
  {
   "cell_type": "code",
   "execution_count": 145,
   "metadata": {},
   "outputs": [
    {
     "data": {
      "text/plain": [
       "\u001b[0;31mDocstring:\u001b[0m\n",
       "squeeze(dim=None) -> Tensor\n",
       "\n",
       "See :func:`torch.squeeze`\n",
       "\u001b[0;31mType:\u001b[0m      method_descriptor\n"
      ]
     },
     "metadata": {},
     "output_type": "display_data"
    }
   ],
   "source": [
    "?torch.Tensor.squeeze"
   ]
  },
  {
   "cell_type": "code",
   "execution_count": null,
   "metadata": {},
   "outputs": [],
   "source": []
  }
 ],
 "metadata": {
  "kernelspec": {
   "display_name": "Python 3",
   "language": "python",
   "name": "python3"
  },
  "language_info": {
   "codemirror_mode": {
    "name": "ipython",
    "version": 3
   },
   "file_extension": ".py",
   "mimetype": "text/x-python",
   "name": "python",
   "nbconvert_exporter": "python",
   "pygments_lexer": "ipython3",
   "version": "3.6.8"
  }
 },
 "nbformat": 4,
 "nbformat_minor": 2
}
